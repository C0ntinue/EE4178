{
  "nbformat": 4,
  "nbformat_minor": 0,
  "metadata": {
    "colab": {
      "name": "Intro.ipynb",
      "provenance": [],
      "collapsed_sections": [
        "iZLTmlPdTE_7",
        "M2fXIxn-Yax8",
        "66RY4aYGqMdq"
      ],
      "toc_visible": true
    },
    "kernelspec": {
      "name": "python3",
      "display_name": "Python 3"
    },
    "accelerator": "GPU",
    "widgets": {
      "application/vnd.jupyter.widget-state+json": {
        "5705325ec08042dba279aa316ed1d2b4": {
          "model_module": "@jupyter-widgets/controls",
          "model_name": "HBoxModel",
          "state": {
            "_view_name": "HBoxView",
            "_dom_classes": [],
            "_model_name": "HBoxModel",
            "_view_module": "@jupyter-widgets/controls",
            "_model_module_version": "1.5.0",
            "_view_count": null,
            "_view_module_version": "1.5.0",
            "box_style": "",
            "layout": "IPY_MODEL_dd07d938a4534f2da315ffc219179392",
            "_model_module": "@jupyter-widgets/controls",
            "children": [
              "IPY_MODEL_dce8cc9eb6014194a80e0abfe071301e",
              "IPY_MODEL_087e4b8a6243404493bf9564415a2867"
            ]
          }
        },
        "dd07d938a4534f2da315ffc219179392": {
          "model_module": "@jupyter-widgets/base",
          "model_name": "LayoutModel",
          "state": {
            "_view_name": "LayoutView",
            "grid_template_rows": null,
            "right": null,
            "justify_content": null,
            "_view_module": "@jupyter-widgets/base",
            "overflow": null,
            "_model_module_version": "1.2.0",
            "_view_count": null,
            "flex_flow": null,
            "width": null,
            "min_width": null,
            "border": null,
            "align_items": null,
            "bottom": null,
            "_model_module": "@jupyter-widgets/base",
            "top": null,
            "grid_column": null,
            "overflow_y": null,
            "overflow_x": null,
            "grid_auto_flow": null,
            "grid_area": null,
            "grid_template_columns": null,
            "flex": null,
            "_model_name": "LayoutModel",
            "justify_items": null,
            "grid_row": null,
            "max_height": null,
            "align_content": null,
            "visibility": null,
            "align_self": null,
            "height": null,
            "min_height": null,
            "padding": null,
            "grid_auto_rows": null,
            "grid_gap": null,
            "max_width": null,
            "order": null,
            "_view_module_version": "1.2.0",
            "grid_template_areas": null,
            "object_position": null,
            "object_fit": null,
            "grid_auto_columns": null,
            "margin": null,
            "display": null,
            "left": null
          }
        },
        "dce8cc9eb6014194a80e0abfe071301e": {
          "model_module": "@jupyter-widgets/controls",
          "model_name": "FloatProgressModel",
          "state": {
            "_view_name": "ProgressView",
            "style": "IPY_MODEL_580fe05bb3f040e896a131c209b720a8",
            "_dom_classes": [],
            "description": "",
            "_model_name": "FloatProgressModel",
            "bar_style": "info",
            "max": 1,
            "_view_module": "@jupyter-widgets/controls",
            "_model_module_version": "1.5.0",
            "value": 1,
            "_view_count": null,
            "_view_module_version": "1.5.0",
            "orientation": "horizontal",
            "min": 0,
            "description_tooltip": null,
            "_model_module": "@jupyter-widgets/controls",
            "layout": "IPY_MODEL_356d6cea4f824e1aa55479b9321feb13"
          }
        },
        "087e4b8a6243404493bf9564415a2867": {
          "model_module": "@jupyter-widgets/controls",
          "model_name": "HTMLModel",
          "state": {
            "_view_name": "HTMLView",
            "style": "IPY_MODEL_d2f6eb5b243b48a987211cedba0ecf02",
            "_dom_classes": [],
            "description": "",
            "_model_name": "HTMLModel",
            "placeholder": "​",
            "_view_module": "@jupyter-widgets/controls",
            "_model_module_version": "1.5.0",
            "value": " 170500096/? [00:19&lt;00:00, 52303174.88it/s]",
            "_view_count": null,
            "_view_module_version": "1.5.0",
            "description_tooltip": null,
            "_model_module": "@jupyter-widgets/controls",
            "layout": "IPY_MODEL_dc020d8c090141879186e7282256fdc7"
          }
        },
        "580fe05bb3f040e896a131c209b720a8": {
          "model_module": "@jupyter-widgets/controls",
          "model_name": "ProgressStyleModel",
          "state": {
            "_view_name": "StyleView",
            "_model_name": "ProgressStyleModel",
            "description_width": "initial",
            "_view_module": "@jupyter-widgets/base",
            "_model_module_version": "1.5.0",
            "_view_count": null,
            "_view_module_version": "1.2.0",
            "bar_color": null,
            "_model_module": "@jupyter-widgets/controls"
          }
        },
        "356d6cea4f824e1aa55479b9321feb13": {
          "model_module": "@jupyter-widgets/base",
          "model_name": "LayoutModel",
          "state": {
            "_view_name": "LayoutView",
            "grid_template_rows": null,
            "right": null,
            "justify_content": null,
            "_view_module": "@jupyter-widgets/base",
            "overflow": null,
            "_model_module_version": "1.2.0",
            "_view_count": null,
            "flex_flow": null,
            "width": null,
            "min_width": null,
            "border": null,
            "align_items": null,
            "bottom": null,
            "_model_module": "@jupyter-widgets/base",
            "top": null,
            "grid_column": null,
            "overflow_y": null,
            "overflow_x": null,
            "grid_auto_flow": null,
            "grid_area": null,
            "grid_template_columns": null,
            "flex": null,
            "_model_name": "LayoutModel",
            "justify_items": null,
            "grid_row": null,
            "max_height": null,
            "align_content": null,
            "visibility": null,
            "align_self": null,
            "height": null,
            "min_height": null,
            "padding": null,
            "grid_auto_rows": null,
            "grid_gap": null,
            "max_width": null,
            "order": null,
            "_view_module_version": "1.2.0",
            "grid_template_areas": null,
            "object_position": null,
            "object_fit": null,
            "grid_auto_columns": null,
            "margin": null,
            "display": null,
            "left": null
          }
        },
        "d2f6eb5b243b48a987211cedba0ecf02": {
          "model_module": "@jupyter-widgets/controls",
          "model_name": "DescriptionStyleModel",
          "state": {
            "_view_name": "StyleView",
            "_model_name": "DescriptionStyleModel",
            "description_width": "",
            "_view_module": "@jupyter-widgets/base",
            "_model_module_version": "1.5.0",
            "_view_count": null,
            "_view_module_version": "1.2.0",
            "_model_module": "@jupyter-widgets/controls"
          }
        },
        "dc020d8c090141879186e7282256fdc7": {
          "model_module": "@jupyter-widgets/base",
          "model_name": "LayoutModel",
          "state": {
            "_view_name": "LayoutView",
            "grid_template_rows": null,
            "right": null,
            "justify_content": null,
            "_view_module": "@jupyter-widgets/base",
            "overflow": null,
            "_model_module_version": "1.2.0",
            "_view_count": null,
            "flex_flow": null,
            "width": null,
            "min_width": null,
            "border": null,
            "align_items": null,
            "bottom": null,
            "_model_module": "@jupyter-widgets/base",
            "top": null,
            "grid_column": null,
            "overflow_y": null,
            "overflow_x": null,
            "grid_auto_flow": null,
            "grid_area": null,
            "grid_template_columns": null,
            "flex": null,
            "_model_name": "LayoutModel",
            "justify_items": null,
            "grid_row": null,
            "max_height": null,
            "align_content": null,
            "visibility": null,
            "align_self": null,
            "height": null,
            "min_height": null,
            "padding": null,
            "grid_auto_rows": null,
            "grid_gap": null,
            "max_width": null,
            "order": null,
            "_view_module_version": "1.2.0",
            "grid_template_areas": null,
            "object_position": null,
            "object_fit": null,
            "grid_auto_columns": null,
            "margin": null,
            "display": null,
            "left": null
          }
        }
      }
    }
  },
  "cells": [
    {
      "cell_type": "markdown",
      "metadata": {
        "id": "BA8s3y3BiySF"
      },
      "source": [
        "# 인공지능(딥러닝)개론 EE4178\n",
        "## Pytorch 실습\n",
        "\n",
        "\n",
        "---\n",
        "Day1. Intro\n",
        "\n",
        "\n",
        "> 0. Google Colab and Basic Python\n",
        "\n",
        "> 1. Pytorch\n",
        "\n",
        "> 2. XOR in Pytorch\n",
        "\n",
        "\n",
        "\n",
        "\n",
        "\n",
        "\n",
        "\n"
      ]
    },
    {
      "cell_type": "markdown",
      "metadata": {
        "id": "yLc5JW08pYz8"
      },
      "source": [
        "## 0. Google Colab and Basic Python\n",
        "\n",
        "### ![image.png](data:image/png;base64,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)\n",
        "\n"
      ]
    },
    {
      "cell_type": "markdown",
      "metadata": {
        "id": "Miniin-lp_iO"
      },
      "source": [
        "#### 0.1 자료형과 연산"
      ]
    },
    {
      "cell_type": "markdown",
      "metadata": {
        "id": "xY2_0t6qrIDP"
      },
      "source": [
        "숫자형"
      ]
    },
    {
      "cell_type": "code",
      "metadata": {
        "id": "pC4qCh4jrG_7",
        "outputId": "3aa598ce-9384-4798-b73b-0674f05e583c",
        "colab": {
          "base_uri": "https://localhost:8080/",
          "height": 53
        }
      },
      "source": [
        "a = 10\n",
        "b = 1.2\n",
        "print(a, b)\n",
        "print(a+b, a-b, a*b, a/b)"
      ],
      "execution_count": 1,
      "outputs": [
        {
          "output_type": "stream",
          "text": [
            "10 1.2\n",
            "11.2 8.8 12.0 8.333333333333334\n"
          ],
          "name": "stdout"
        }
      ]
    },
    {
      "cell_type": "markdown",
      "metadata": {
        "id": "LCQssZfirWGD"
      },
      "source": [
        " 문자형"
      ]
    },
    {
      "cell_type": "code",
      "metadata": {
        "id": "A3RzGEIZq4pd",
        "outputId": "fe51f62c-6f70-4f8b-9b67-757e1fcf60b8",
        "colab": {
          "base_uri": "https://localhost:8080/",
          "height": 35
        }
      },
      "source": [
        "quote = \"Life is too short,\"\n",
        "print(quote, \"You need Python\")"
      ],
      "execution_count": 2,
      "outputs": [
        {
          "output_type": "stream",
          "text": [
            "Life is too short, You need Python\n"
          ],
          "name": "stdout"
        }
      ]
    },
    {
      "cell_type": "markdown",
      "metadata": {
        "id": "hAQ8IXDIrk1s"
      },
      "source": [
        "리스트/튜플"
      ]
    },
    {
      "cell_type": "code",
      "metadata": {
        "id": "Jxcl8SFrcvwZ"
      },
      "source": [
        "odd = [1, 3, 5, 7, 9]\n",
        "alphabet = [\"a\", \"b\", \"c\"]\n",
        "empty = []"
      ],
      "execution_count": 3,
      "outputs": []
    },
    {
      "cell_type": "code",
      "metadata": {
        "id": "zQNQcmkLvLkE",
        "outputId": "e3f9b1e3-2f81-4fcc-d675-a3ade95e8adc",
        "colab": {
          "base_uri": "https://localhost:8080/",
          "height": 35
        }
      },
      "source": [
        "odd[1]"
      ],
      "execution_count": 4,
      "outputs": [
        {
          "output_type": "execute_result",
          "data": {
            "text/plain": [
              "3"
            ]
          },
          "metadata": {
            "tags": []
          },
          "execution_count": 4
        }
      ]
    },
    {
      "cell_type": "code",
      "metadata": {
        "id": "uflfWL48vO-c",
        "outputId": "57a85440-9d7f-4025-b684-333062a5ed91",
        "colab": {
          "base_uri": "https://localhost:8080/",
          "height": 53
        }
      },
      "source": [
        "print(\"odd[-1]: \", odd[-1])\n",
        "print(\"odd[0:2]: \", odd[0:2])"
      ],
      "execution_count": 5,
      "outputs": [
        {
          "output_type": "stream",
          "text": [
            "odd[-1]:  9\n",
            "odd[0:2]:  [1, 3]\n"
          ],
          "name": "stdout"
        }
      ]
    },
    {
      "cell_type": "code",
      "metadata": {
        "id": "sSaCSVQ9vQ8M",
        "outputId": "96c1cd6a-023d-439f-db81-5a0bae561bce",
        "colab": {
          "base_uri": "https://localhost:8080/",
          "height": 35
        }
      },
      "source": [
        "alphabet.append(\"A\")\n",
        "alphabet.append([\"B\", \"c\"])\n",
        "alphabet"
      ],
      "execution_count": 6,
      "outputs": [
        {
          "output_type": "execute_result",
          "data": {
            "text/plain": [
              "['a', 'b', 'c', 'A', ['B', 'c']]"
            ]
          },
          "metadata": {
            "tags": []
          },
          "execution_count": 6
        }
      ]
    },
    {
      "cell_type": "code",
      "metadata": {
        "id": "RmbgqnW6vl-8",
        "outputId": "352c6020-e00e-4504-90d4-a8c16a1546b9",
        "colab": {
          "base_uri": "https://localhost:8080/",
          "height": 35
        }
      },
      "source": [
        "empty.append(1)\n",
        "empty.append(2)\n",
        "empty.append('3')\n",
        "empty"
      ],
      "execution_count": 7,
      "outputs": [
        {
          "output_type": "execute_result",
          "data": {
            "text/plain": [
              "[1, 2, '3']"
            ]
          },
          "metadata": {
            "tags": []
          },
          "execution_count": 7
        }
      ]
    },
    {
      "cell_type": "code",
      "metadata": {
        "id": "NfYi0Adhxvuk",
        "outputId": "fe3eeca4-a997-46a7-ef8d-9bf76e9e6793",
        "colab": {
          "base_uri": "https://localhost:8080/",
          "height": 53
        }
      },
      "source": [
        "print(type(empty[0]))\n",
        "print(type(empty[-1]))"
      ],
      "execution_count": 8,
      "outputs": [
        {
          "output_type": "stream",
          "text": [
            "<class 'int'>\n",
            "<class 'str'>\n"
          ],
          "name": "stdout"
        }
      ]
    },
    {
      "cell_type": "markdown",
      "metadata": {
        "id": "3CeIJyuCyaA1"
      },
      "source": [
        "tuple: \n",
        "\n",
        "*   list와 비슷하지만 요소값 생성, 삭제, 수정이 불가\n",
        "*   ()로 묶여 있음 (list의 경우 [])\n",
        "\n",
        "\n",
        "\n"
      ]
    },
    {
      "cell_type": "markdown",
      "metadata": {
        "id": "Pp4-9W_0yqUW"
      },
      "source": [
        "딕셔너리"
      ]
    },
    {
      "cell_type": "code",
      "metadata": {
        "id": "5yjmEhXoyPs-",
        "outputId": "aa942fe9-681e-4ee5-ca35-7f86ded1fa20",
        "colab": {
          "base_uri": "https://localhost:8080/",
          "height": 71
        }
      },
      "source": [
        "# Dictionary: {Key1:Value1, Key2:Value2, Key3:Value3, ....}\n",
        "\n",
        "dic = {\"김철수\":80, \"이영희\":90, \"박아무개\":85}\n",
        "print(dic[\"김철수\"])\n",
        "print(dic.keys())\n",
        "print(dic.values())"
      ],
      "execution_count": 9,
      "outputs": [
        {
          "output_type": "stream",
          "text": [
            "80\n",
            "dict_keys(['김철수', '이영희', '박아무개'])\n",
            "dict_values([80, 90, 85])\n"
          ],
          "name": "stdout"
        }
      ]
    },
    {
      "cell_type": "code",
      "metadata": {
        "id": "DV-P05tVzOYb",
        "outputId": "5a4f3c12-a8b8-4c5c-c9c9-5fbd77e72636",
        "colab": {
          "base_uri": "https://localhost:8080/",
          "height": 35
        }
      },
      "source": [
        "dic['이름']=100\n",
        "dic"
      ],
      "execution_count": 10,
      "outputs": [
        {
          "output_type": "execute_result",
          "data": {
            "text/plain": [
              "{'김철수': 80, '박아무개': 85, '이름': 100, '이영희': 90}"
            ]
          },
          "metadata": {
            "tags": []
          },
          "execution_count": 10
        }
      ]
    },
    {
      "cell_type": "markdown",
      "metadata": {
        "id": "KWzCY4RlDHZ6"
      },
      "source": [
        "#### 0.2 제어문"
      ]
    },
    {
      "cell_type": "markdown",
      "metadata": {
        "id": "W3buqvVzDMWv"
      },
      "source": [
        "if문"
      ]
    },
    {
      "cell_type": "code",
      "metadata": {
        "id": "aKHCXNlG291d",
        "outputId": "781c12c5-539e-4c79-a13e-19c8e678b532",
        "colab": {
          "base_uri": "https://localhost:8080/",
          "height": 53
        }
      },
      "source": [
        "print('emtpy:',empty)\n",
        "\n",
        "if empty[1]%2 == 0:\n",
        "  print(\"{} is an even number\".format(empty[1]))\n",
        "elif empty[1]%2 == 1:\n",
        "  print(\"{} is an odd number\".format(empty[1]))\n",
        "else:\n",
        "  print(\"Impossible\")"
      ],
      "execution_count": 11,
      "outputs": [
        {
          "output_type": "stream",
          "text": [
            "emtpy: [1, 2, '3']\n",
            "2 is an even number\n"
          ],
          "name": "stdout"
        }
      ]
    },
    {
      "cell_type": "markdown",
      "metadata": {
        "id": "TyxAKqksG1g5"
      },
      "source": [
        "for문"
      ]
    },
    {
      "cell_type": "code",
      "metadata": {
        "id": "B6OBSv-TDvFo",
        "outputId": "928a5a2d-7786-46c7-a9cf-9200a86c64ba",
        "colab": {
          "base_uri": "https://localhost:8080/",
          "height": 107
        }
      },
      "source": [
        "for i in range(5):\n",
        "  print(i)"
      ],
      "execution_count": 12,
      "outputs": [
        {
          "output_type": "stream",
          "text": [
            "0\n",
            "1\n",
            "2\n",
            "3\n",
            "4\n"
          ],
          "name": "stdout"
        }
      ]
    },
    {
      "cell_type": "markdown",
      "metadata": {
        "id": "J1cT0GcHG6vf"
      },
      "source": [
        "while 문"
      ]
    },
    {
      "cell_type": "code",
      "metadata": {
        "id": "kwGzEKrkG5YJ",
        "outputId": "895e522c-2530-4c9b-85a8-87b767f98bd1",
        "colab": {
          "base_uri": "https://localhost:8080/",
          "height": 89
        }
      },
      "source": [
        "start = 0\n",
        "while start<5:\n",
        "  print(start)\n",
        "  start = start + 2\n",
        "\n",
        "print(\"final value: {}\".format(start))"
      ],
      "execution_count": 13,
      "outputs": [
        {
          "output_type": "stream",
          "text": [
            "0\n",
            "2\n",
            "4\n",
            "final value: 6\n"
          ],
          "name": "stdout"
        }
      ]
    },
    {
      "cell_type": "markdown",
      "metadata": {
        "id": "vXDxv9zqHYhQ"
      },
      "source": [
        "#### 0.3 함수/클래스"
      ]
    },
    {
      "cell_type": "markdown",
      "metadata": {
        "id": "j_Yupjw9IDLg"
      },
      "source": [
        "함수"
      ]
    },
    {
      "cell_type": "code",
      "metadata": {
        "id": "hXtmPRMqICeV"
      },
      "source": [
        "def square_sum(a,b):\n",
        "  squared_a = a**2\n",
        "  squared_b = b**2\n",
        "  \n",
        "  return squared_a + squared_b"
      ],
      "execution_count": 14,
      "outputs": []
    },
    {
      "cell_type": "code",
      "metadata": {
        "id": "oGhNQ5sFHJTP",
        "outputId": "7dc4b835-9010-45a8-aee9-e2f476506736",
        "colab": {
          "base_uri": "https://localhost:8080/",
          "height": 35
        }
      },
      "source": [
        "c = square_sum(3,4)\n",
        "print(\"squared sum of {} and {} : {}\".format(3, 4, c))"
      ],
      "execution_count": 15,
      "outputs": [
        {
          "output_type": "stream",
          "text": [
            "squared sum of 3 and 4 : 25\n"
          ],
          "name": "stdout"
        }
      ]
    },
    {
      "cell_type": "markdown",
      "metadata": {
        "id": "iC2vIuDcIoIY"
      },
      "source": [
        "클래스"
      ]
    },
    {
      "cell_type": "code",
      "metadata": {
        "id": "Li3WRyMcImLQ"
      },
      "source": [
        "class Calculator():\n",
        "  def __init__(self):\n",
        "    self.description = \"Example for initalizing a Class\"\n",
        "    self.result = 0\n",
        "\n",
        "  def add(self, num1, num2):\n",
        "    if type(num1) == int and type(num2) == int :\n",
        "      result = num1 + num2\n",
        "      return result\n",
        "    else:\n",
        "      raise Exception\n",
        "\n",
        "  def mul(self, num1, num2):\n",
        "    if type(num1) == int and type(num2) == int :\n",
        "      result = num1 * num2\n",
        "      return result\n",
        "    else:\n",
        "      raise Exception"
      ],
      "execution_count": 16,
      "outputs": []
    },
    {
      "cell_type": "code",
      "metadata": {
        "id": "CIO0_cq8JbCi",
        "outputId": "cfc2ab77-79f7-44a9-f52c-82737f806a7d",
        "colab": {
          "base_uri": "https://localhost:8080/",
          "height": 71
        }
      },
      "source": [
        "cal = Calculator()\n",
        "print(cal.description)\n",
        "print(cal.add(3,4))\n",
        "print(cal.mul(3,4))"
      ],
      "execution_count": 17,
      "outputs": [
        {
          "output_type": "stream",
          "text": [
            "Example for initalizing a Class\n",
            "7\n",
            "12\n"
          ],
          "name": "stdout"
        }
      ]
    },
    {
      "cell_type": "markdown",
      "metadata": {
        "id": "hQiukVo0JyNB"
      },
      "source": [
        "#### 0.4 패키지"
      ]
    },
    {
      "cell_type": "markdown",
      "metadata": {
        "id": "Bc4XeiWEKKlh"
      },
      "source": [
        "import"
      ]
    },
    {
      "cell_type": "code",
      "metadata": {
        "id": "mpwxvDPuJlKw",
        "outputId": "64984dba-2c25-48cf-e822-79e004142333",
        "colab": {
          "base_uri": "https://localhost:8080/",
          "height": 35
        }
      },
      "source": [
        "import numpy as np\n",
        "\n",
        "array = np.array([1,2,3])\n",
        "print(array, type (array))"
      ],
      "execution_count": 18,
      "outputs": [
        {
          "output_type": "stream",
          "text": [
            "[1 2 3] <class 'numpy.ndarray'>\n"
          ],
          "name": "stdout"
        }
      ]
    },
    {
      "cell_type": "code",
      "metadata": {
        "id": "LkIny5K2KQZR",
        "outputId": "8556f01e-9774-461f-83ef-5a5913e8b95a",
        "colab": {
          "base_uri": "https://localhost:8080/",
          "height": 283
        }
      },
      "source": [
        "import matplotlib\n",
        "import matplotlib.pyplot as plt\n",
        "\n",
        "x = [1,2,3,4,5]\n",
        "y = []\n",
        "for i in x:\n",
        "  y.append(i**2)\n",
        "\n",
        "plt.plot(x,y)\n",
        "plt.xlim(0,10)"
      ],
      "execution_count": 19,
      "outputs": [
        {
          "output_type": "execute_result",
          "data": {
            "text/plain": [
              "(0.0, 10.0)"
            ]
          },
          "metadata": {
            "tags": []
          },
          "execution_count": 19
        },
        {
          "output_type": "display_data",
          "data": {
            "image/png": "[encoded data removed]",
            "text/plain": [
              "<Figure size 432x288 with 1 Axes>"
            ]
          },
          "metadata": {
            "tags": [],
            "needs_background": "light"
          }
        }
      ]
    },
    {
      "cell_type": "markdown",
      "metadata": {
        "id": "iZLTmlPdTE_7"
      },
      "source": [
        "## 1. Pytorch"
      ]
    },
    {
      "cell_type": "markdown",
      "metadata": {
        "id": "M2fXIxn-Yax8"
      },
      "source": [
        "### 1.1 Tensors / Numpy"
      ]
    },
    {
      "cell_type": "code",
      "metadata": {
        "id": "e79ingkGKuex"
      },
      "source": [
        "import torch\n",
        "import numpy as np\n",
        "\n",
        "## colab의 경우, 대부분의 package install 필요 없음 (바로 import 가능)\n",
        "## 패키지 설치가 필요할 경우: 'pip install package_name'"
      ],
      "execution_count": 20,
      "outputs": []
    },
    {
      "cell_type": "markdown",
      "metadata": {
        "id": "bbU9biUwTsVq"
      },
      "source": [
        "**Python List / Numpy / Tensors**\n",
        "* Python List: 행렬 연산을 위해 for 문 사용\n",
        "* Numpy : 차원이 다른 행렬 간에도 연산이 가능\n",
        "* Tensor : GPU 상에서 연산이 가능하고 autograd(자동 미분)연산 기능이 있는 자료형"
      ]
    },
    {
      "cell_type": "markdown",
      "metadata": {
        "id": "B7eZ7rBzMBp4"
      },
      "source": [
        "#### Tensor 생성 및 초기화"
      ]
    },
    {
      "cell_type": "code",
      "metadata": {
        "id": "zTg4AZdeTohQ",
        "outputId": "41032c43-fd26-454c-e14e-a68c3ceb2ca3",
        "colab": {
          "base_uri": "https://localhost:8080/",
          "height": 107
        }
      },
      "source": [
        "# 초기화되지 않은 행렬 생성\n",
        "x = torch.empty(5,3)\n",
        "print(x)"
      ],
      "execution_count": 21,
      "outputs": [
        {
          "output_type": "stream",
          "text": [
            "tensor([[7.8757e-36, 0.0000e+00, 3.3631e-44],\n",
            "        [0.0000e+00,        nan, 0.0000e+00],\n",
            "        [1.1578e+27, 1.1362e+30, 7.1547e+22],\n",
            "        [4.5828e+30, 1.2121e+04, 7.1846e+22],\n",
            "        [9.2198e-39, 7.0374e+22, 2.8397e-36]])\n"
          ],
          "name": "stdout"
        }
      ]
    },
    {
      "cell_type": "code",
      "metadata": {
        "id": "ZBgbH7EfMJxH",
        "outputId": "2f2a5491-a8c1-49ac-b252-25f7d89b32af",
        "colab": {
          "base_uri": "https://localhost:8080/",
          "height": 107
        }
      },
      "source": [
        "# 0 ~ 1 사이의 랜덤 초기화 행렬 생성\n",
        "x = torch.rand(5,3)\n",
        "print(x)"
      ],
      "execution_count": 22,
      "outputs": [
        {
          "output_type": "stream",
          "text": [
            "tensor([[6.2673e-01, 8.8258e-01, 8.6359e-01],\n",
            "        [9.5766e-01, 9.3514e-01, 1.4956e-01],\n",
            "        [5.3877e-01, 1.3772e-01, 3.1156e-01],\n",
            "        [8.4986e-01, 3.4695e-02, 5.3824e-01],\n",
            "        [1.6451e-05, 7.8570e-02, 6.4179e-01]])\n"
          ],
          "name": "stdout"
        }
      ]
    },
    {
      "cell_type": "code",
      "metadata": {
        "id": "jyAfqujMNHoG",
        "outputId": "37fdf583-42d3-4d75-8332-b76a3d0beb6d",
        "colab": {
          "base_uri": "https://localhost:8080/",
          "height": 35
        }
      },
      "source": [
        "x.mean()"
      ],
      "execution_count": 23,
      "outputs": [
        {
          "output_type": "execute_result",
          "data": {
            "text/plain": [
              "tensor(0.5031)"
            ]
          },
          "metadata": {
            "tags": []
          },
          "execution_count": 23
        }
      ]
    },
    {
      "cell_type": "code",
      "metadata": {
        "id": "sl7F8RBGNzJ3",
        "outputId": "52d6a6f0-6108-4730-f094-73269cfce24b",
        "colab": {
          "base_uri": "https://localhost:8080/",
          "height": 35
        }
      },
      "source": [
        "x.std()"
      ],
      "execution_count": 24,
      "outputs": [
        {
          "output_type": "execute_result",
          "data": {
            "text/plain": [
              "tensor(0.3558)"
            ]
          },
          "metadata": {
            "tags": []
          },
          "execution_count": 24
        }
      ]
    },
    {
      "cell_type": "code",
      "metadata": {
        "id": "bEwJN14KMZ-9",
        "outputId": "e42558d5-650b-4b19-9381-4321508d2ce4",
        "colab": {
          "base_uri": "https://localhost:8080/",
          "height": 107
        }
      },
      "source": [
        "# Standard Normal Distribution에서 랜덤 초기화 행렬 생성\n",
        "x = torch.randn(5,3)\n",
        "print(x)"
      ],
      "execution_count": 25,
      "outputs": [
        {
          "output_type": "stream",
          "text": [
            "tensor([[ 0.2258, -2.5049,  0.2897],\n",
            "        [-1.9462, -0.2041, -1.1987],\n",
            "        [ 0.4769, -0.5218, -0.6762],\n",
            "        [ 0.2603,  1.0769,  2.5927],\n",
            "        [ 1.3766, -0.5446,  2.1470]])\n"
          ],
          "name": "stdout"
        }
      ]
    },
    {
      "cell_type": "code",
      "metadata": {
        "id": "4q6bOPVdNNpe",
        "outputId": "4ed6303a-3149-4f98-f0a6-94ac3e0639d6",
        "colab": {
          "base_uri": "https://localhost:8080/",
          "height": 35
        }
      },
      "source": [
        "x.mean()"
      ],
      "execution_count": 26,
      "outputs": [
        {
          "output_type": "execute_result",
          "data": {
            "text/plain": [
              "tensor(0.0566)"
            ]
          },
          "metadata": {
            "tags": []
          },
          "execution_count": 26
        }
      ]
    },
    {
      "cell_type": "code",
      "metadata": {
        "id": "kBARNL1qNSrN",
        "outputId": "bcfa69c3-6569-47a4-da84-b2c94ba78420",
        "colab": {
          "base_uri": "https://localhost:8080/",
          "height": 35
        }
      },
      "source": [
        "x.std()"
      ],
      "execution_count": 27,
      "outputs": [
        {
          "output_type": "execute_result",
          "data": {
            "text/plain": [
              "tensor(1.3973)"
            ]
          },
          "metadata": {
            "tags": []
          },
          "execution_count": 27
        }
      ]
    },
    {
      "cell_type": "code",
      "metadata": {
        "id": "_MqusfsWNwJe",
        "outputId": "2a951c27-dbcf-42c1-d720-0f06c0753404",
        "colab": {
          "base_uri": "https://localhost:8080/",
          "height": 35
        }
      },
      "source": [
        "# 특정 값을 tensor로 만들기\n",
        "x = torch.tensor([1.2, 4.5])\n",
        "x"
      ],
      "execution_count": 28,
      "outputs": [
        {
          "output_type": "execute_result",
          "data": {
            "text/plain": [
              "tensor([1.2000, 4.5000])"
            ]
          },
          "metadata": {
            "tags": []
          },
          "execution_count": 28
        }
      ]
    },
    {
      "cell_type": "markdown",
      "metadata": {
        "id": "N-oihxgoOPmS"
      },
      "source": [
        "#### Tensor size & Numpy 변환"
      ]
    },
    {
      "cell_type": "code",
      "metadata": {
        "id": "O-p8GZ2lOJqV",
        "outputId": "68865a59-c569-41ce-f75d-1df53ca7d124",
        "colab": {
          "base_uri": "https://localhost:8080/",
          "height": 89
        }
      },
      "source": [
        "# Size 확인\n",
        "x = torch.randn(3,4)\n",
        "print(x)\n",
        "print(\"x size : \", x.size())"
      ],
      "execution_count": 29,
      "outputs": [
        {
          "output_type": "stream",
          "text": [
            "tensor([[ 0.8516,  0.3311, -0.2176, -0.7864],\n",
            "        [ 1.1835,  1.1462, -0.9949, -1.5180],\n",
            "        [-1.0092, -2.5749, -1.3198, -0.2773]])\n",
            "x size :  torch.Size([3, 4])\n"
          ],
          "name": "stdout"
        }
      ]
    },
    {
      "cell_type": "code",
      "metadata": {
        "id": "yiDxd5dmO1LI",
        "outputId": "c7af39f8-5d44-4950-f55c-99aeba908e8a",
        "colab": {
          "base_uri": "https://localhost:8080/",
          "height": 251
        }
      },
      "source": [
        "# Resize - \"reshape\" : any tensor\n",
        "x = torch.rand(3,4)\n",
        "y = x.reshape(4,3)\n",
        "z = x.reshape(-1, 2)\n",
        "print(x, x.size(), \"\\n\", y, y.size(), \"\\n\", z, z.size())"
      ],
      "execution_count": 30,
      "outputs": [
        {
          "output_type": "stream",
          "text": [
            "tensor([[0.9223, 0.4113, 0.2203, 0.6717],\n",
            "        [0.1777, 0.5780, 0.5633, 0.3667],\n",
            "        [0.0763, 0.1073, 0.3504, 0.0547]]) torch.Size([3, 4]) \n",
            " tensor([[0.9223, 0.4113, 0.2203],\n",
            "        [0.6717, 0.1777, 0.5780],\n",
            "        [0.5633, 0.3667, 0.0763],\n",
            "        [0.1073, 0.3504, 0.0547]]) torch.Size([4, 3]) \n",
            " tensor([[0.9223, 0.4113],\n",
            "        [0.2203, 0.6717],\n",
            "        [0.1777, 0.5780],\n",
            "        [0.5633, 0.3667],\n",
            "        [0.0763, 0.1073],\n",
            "        [0.3504, 0.0547]]) torch.Size([6, 2])\n"
          ],
          "name": "stdout"
        }
      ]
    },
    {
      "cell_type": "code",
      "metadata": {
        "id": "r37wmuHzQVFJ",
        "outputId": "eff25814-325c-4951-b351-e8ecdd6c316e",
        "colab": {
          "base_uri": "https://localhost:8080/",
          "height": 251
        }
      },
      "source": [
        "# Resize - \"view\" : for contiguous tensors\n",
        "x = torch.randn(3,4)\n",
        "y = x.view(4,3)\n",
        "z = x.view(-1, 2)\n",
        "print(x, x.size(), \"\\n\", y, y.size(), \"\\n\", z, z.size())"
      ],
      "execution_count": 31,
      "outputs": [
        {
          "output_type": "stream",
          "text": [
            "tensor([[-1.6322, -0.3997,  0.2128,  1.4259],\n",
            "        [-1.3549, -0.1981,  0.5755, -0.3500],\n",
            "        [ 0.5209,  1.4203, -0.2046, -1.4972]]) torch.Size([3, 4]) \n",
            " tensor([[-1.6322, -0.3997,  0.2128],\n",
            "        [ 1.4259, -1.3549, -0.1981],\n",
            "        [ 0.5755, -0.3500,  0.5209],\n",
            "        [ 1.4203, -0.2046, -1.4972]]) torch.Size([4, 3]) \n",
            " tensor([[-1.6322, -0.3997],\n",
            "        [ 0.2128,  1.4259],\n",
            "        [-1.3549, -0.1981],\n",
            "        [ 0.5755, -0.3500],\n",
            "        [ 0.5209,  1.4203],\n",
            "        [-0.2046, -1.4972]]) torch.Size([6, 2])\n"
          ],
          "name": "stdout"
        }
      ]
    },
    {
      "cell_type": "markdown",
      "metadata": {
        "id": "PbUXYY5FRge2"
      },
      "source": [
        "#### Tensor, Numpy 변환"
      ]
    },
    {
      "cell_type": "code",
      "metadata": {
        "id": "37BMZkpzQ-tP",
        "outputId": "9fbe8ecb-5a96-44cb-99b6-7038ad5b9d0f",
        "colab": {
          "base_uri": "https://localhost:8080/",
          "height": 53
        }
      },
      "source": [
        "# Tensor to numpy\n",
        "x = torch.ones(5)\n",
        "y = x.numpy()\n",
        "print(x, type(x))\n",
        "print(y, type(y))"
      ],
      "execution_count": 32,
      "outputs": [
        {
          "output_type": "stream",
          "text": [
            "tensor([1., 1., 1., 1., 1.]) <class 'torch.Tensor'>\n",
            "[1. 1. 1. 1. 1.] <class 'numpy.ndarray'>\n"
          ],
          "name": "stdout"
        }
      ]
    },
    {
      "cell_type": "code",
      "metadata": {
        "id": "bwK2lX10SHPn",
        "outputId": "e2ef266b-52ed-4d72-a1ae-70828fb993b7",
        "colab": {
          "base_uri": "https://localhost:8080/",
          "height": 53
        }
      },
      "source": [
        "# Numpy to tensor\n",
        "x = np.ones(5)\n",
        "y = torch.from_numpy(x)\n",
        "print(x, type(x))\n",
        "print(y, type(y))"
      ],
      "execution_count": 33,
      "outputs": [
        {
          "output_type": "stream",
          "text": [
            "[1. 1. 1. 1. 1.] <class 'numpy.ndarray'>\n",
            "tensor([1., 1., 1., 1., 1.], dtype=torch.float64) <class 'torch.Tensor'>\n"
          ],
          "name": "stdout"
        }
      ]
    },
    {
      "cell_type": "code",
      "metadata": {
        "id": "rBzZ3TebSU6O",
        "outputId": "e9e0a9d5-f9fe-48cb-abaf-95c85feb54ca",
        "colab": {
          "base_uri": "https://localhost:8080/",
          "height": 53
        }
      },
      "source": [
        "# GPU 연산을 위한 CUDA tensor\n",
        "x = torch.ones(5)\n",
        "y = x.to(device=\"cuda:0\") #런타임 연결 gpu로 설정\n",
        "print(x)\n",
        "print(y)"
      ],
      "execution_count": 34,
      "outputs": [
        {
          "output_type": "stream",
          "text": [
            "tensor([1., 1., 1., 1., 1.])\n",
            "tensor([1., 1., 1., 1., 1.], device='cuda:0')\n"
          ],
          "name": "stdout"
        }
      ]
    },
    {
      "cell_type": "markdown",
      "metadata": {
        "id": "Wn4V8ar8S7NS"
      },
      "source": [
        "#### Tensor Autograd\n",
        "requires_grad를 true로 세팅하면 tensor에 대한 모든 연산 추적 가능\n",
        "\n",
        "이를 통해 forward propagation 후, .backward() 호출 시 모든 gradient 자동으로 계산\n",
        "\n"
      ]
    },
    {
      "cell_type": "code",
      "metadata": {
        "id": "BhqS4QllSjgO",
        "outputId": "63d8b1d6-90d0-4cd6-e1b9-70fcc19d35dc",
        "colab": {
          "base_uri": "https://localhost:8080/",
          "height": 107
        }
      },
      "source": [
        "x = torch.tensor(([1., 2.], [3., 4.]), requires_grad=True)\n",
        "y = (x+2) **2 *3\n",
        "print(y)\n",
        "\n",
        "out = y.mean()\n",
        "print(out)\n",
        "\n",
        "out.backward()\n",
        "print(x.grad)"
      ],
      "execution_count": 35,
      "outputs": [
        {
          "output_type": "stream",
          "text": [
            "tensor([[ 27.,  48.],\n",
            "        [ 75., 108.]], grad_fn=<MulBackward0>)\n",
            "tensor(64.5000, grad_fn=<MeanBackward0>)\n",
            "tensor([[4.5000, 6.0000],\n",
            "        [7.5000, 9.0000]])\n"
          ],
          "name": "stdout"
        }
      ]
    },
    {
      "cell_type": "markdown",
      "metadata": {
        "id": "rhIsYkXGX4tf"
      },
      "source": [
        "$$\n",
        "\\frac{\\partial out}{\\partial x} = \\frac{\\partial out}{\\partial y} \\frac{\\partial y}{\\partial x_i} = \\frac{1}{4}6(x_i+2)\n",
        "$$"
      ]
    },
    {
      "cell_type": "markdown",
      "metadata": {
        "id": "bZ0uN4SQW7uo"
      },
      "source": [
        "### 1.2 Pytorch Project"
      ]
    },
    {
      "cell_type": "markdown",
      "metadata": {
        "id": "-IK5ZdL3YiKv"
      },
      "source": [
        "#### 1.2.1 Load data"
      ]
    },
    {
      "cell_type": "code",
      "metadata": {
        "id": "3vGOHxGvT0bQ"
      },
      "source": [
        "import torchvision # to download 'CIFAR10' datasest\n",
        "import torchvision.transforms as transforms  # to manipulate input data"
      ],
      "execution_count": 36,
      "outputs": []
    },
    {
      "cell_type": "code",
      "metadata": {
        "id": "5dVBB7a_uukC",
        "outputId": "3499e4b2-d132-4d69-8a63-691f5324c105",
        "colab": {
          "base_uri": "https://localhost:8080/",
          "height": 85,
          "referenced_widgets": [
            "5705325ec08042dba279aa316ed1d2b4",
            "dd07d938a4534f2da315ffc219179392",
            "dce8cc9eb6014194a80e0abfe071301e",
            "087e4b8a6243404493bf9564415a2867",
            "580fe05bb3f040e896a131c209b720a8",
            "356d6cea4f824e1aa55479b9321feb13",
            "d2f6eb5b243b48a987211cedba0ecf02",
            "dc020d8c090141879186e7282256fdc7"
          ]
        }
      },
      "source": [
        "train_data = torchvision.datasets.CIFAR10(root='./datasets',\n",
        "                                          train=True,\n",
        "                                          transform=transforms.ToTensor(),\n",
        "                                          download=True)"
      ],
      "execution_count": 37,
      "outputs": [
        {
          "output_type": "stream",
          "text": [
            "Downloading https://www.cs.toronto.edu/~kriz/cifar-10-python.tar.gz to ./datasets/cifar-10-python.tar.gz\n"
          ],
          "name": "stdout"
        },
        {
          "output_type": "display_data",
          "data": {
            "application/vnd.jupyter.widget-view+json": {
              "model_id": "5705325ec08042dba279aa316ed1d2b4",
              "version_minor": 0,
              "version_major": 2
            },
            "text/plain": [
              "HBox(children=(FloatProgress(value=1.0, bar_style='info', max=1.0), HTML(value='')))"
            ]
          },
          "metadata": {
            "tags": []
          }
        },
        {
          "output_type": "stream",
          "text": [
            "Extracting ./datasets/cifar-10-python.tar.gz to ./datasets\n"
          ],
          "name": "stdout"
        }
      ]
    },
    {
      "cell_type": "code",
      "metadata": {
        "id": "V8Bexh_7u6Hv",
        "outputId": "dc753ba6-7581-46c5-dfc4-7b52a8be7d43",
        "colab": {
          "base_uri": "https://localhost:8080/",
          "height": 35
        }
      },
      "source": [
        "# data check\n",
        "image, label = train_data[0]\n",
        "print(len(train_data), image.size(), label)"
      ],
      "execution_count": 38,
      "outputs": [
        {
          "output_type": "stream",
          "text": [
            "50000 torch.Size([3, 32, 32]) 6\n"
          ],
          "name": "stdout"
        }
      ]
    },
    {
      "cell_type": "code",
      "metadata": {
        "id": "sr778zxXw8wP"
      },
      "source": [
        "import matplotlib\n",
        "import matplotlib.pyplot as plt"
      ],
      "execution_count": 39,
      "outputs": []
    },
    {
      "cell_type": "code",
      "metadata": {
        "id": "ddh4sPlRziV-",
        "outputId": "8f0cf402-022a-45ea-a776-cb75f4d5cb98",
        "colab": {
          "base_uri": "https://localhost:8080/",
          "height": 137
        }
      },
      "source": [
        "plt.subplot(141)\n",
        "plt.imshow(image.permute(2,1,0))\n",
        "plt.title(label)\n",
        "plt.show()"
      ],
      "execution_count": 40,
      "outputs": [
        {
          "output_type": "display_data",
          "data": {
            "image/png": "[encoded data removed]",
            "text/plain": [
              "<Figure size 432x288 with 1 Axes>"
            ]
          },
          "metadata": {
            "tags": [],
            "needs_background": "light"
          }
        }
      ]
    },
    {
      "cell_type": "markdown",
      "metadata": {
        "id": "UQ7T_DeKvghg"
      },
      "source": [
        "#### 1.2.2. Define Dataloader\n",
        "\n",
        "define dataloader (dataloader loads data from queue while iters loop)"
      ]
    },
    {
      "cell_type": "code",
      "metadata": {
        "id": "laZKiRLtvT23"
      },
      "source": [
        "import torch"
      ],
      "execution_count": 41,
      "outputs": []
    },
    {
      "cell_type": "code",
      "metadata": {
        "id": "nOWf5LeMvrvv"
      },
      "source": [
        "data_loader = torch.utils.data.DataLoader(dataset=train_data,\n",
        "                                          batch_size=64,\n",
        "                                          shuffle=True)"
      ],
      "execution_count": 42,
      "outputs": []
    },
    {
      "cell_type": "code",
      "metadata": {
        "id": "bJVjB_lPvynn",
        "outputId": "ea048000-d9f0-4369-ad9f-ecf0f7ddf766",
        "colab": {
          "base_uri": "https://localhost:8080/",
          "height": 197
        }
      },
      "source": [
        "# check how data loader works\n",
        "print(len(data_loader))\n",
        "for idx, (images, labels) in enumerate(data_loader):\n",
        "  if idx ==3:\n",
        "    break\n",
        "  print(image.size(), labels)"
      ],
      "execution_count": 43,
      "outputs": [
        {
          "output_type": "stream",
          "text": [
            "782\n",
            "torch.Size([3, 32, 32]) tensor([7, 6, 6, 0, 4, 2, 6, 8, 5, 4, 9, 9, 1, 1, 3, 1, 9, 0, 7, 2, 2, 0, 1, 2,\n",
            "        9, 3, 5, 6, 2, 6, 9, 5, 2, 1, 3, 1, 6, 7, 8, 1, 1, 7, 5, 9, 3, 4, 9, 5,\n",
            "        4, 3, 1, 1, 5, 4, 3, 9, 2, 2, 8, 2, 6, 5, 6, 7])\n",
            "torch.Size([3, 32, 32]) tensor([3, 1, 7, 3, 0, 5, 0, 6, 4, 6, 3, 0, 4, 6, 4, 1, 1, 1, 2, 1, 9, 1, 7, 7,\n",
            "        8, 9, 4, 0, 6, 4, 3, 4, 3, 5, 5, 0, 5, 8, 0, 7, 3, 7, 3, 1, 2, 3, 5, 5,\n",
            "        1, 6, 4, 5, 8, 8, 1, 3, 5, 1, 5, 5, 7, 0, 9, 9])\n",
            "torch.Size([3, 32, 32]) tensor([2, 4, 2, 7, 8, 8, 5, 3, 3, 0, 6, 2, 2, 2, 8, 2, 1, 9, 6, 0, 2, 0, 0, 6,\n",
            "        8, 2, 8, 8, 8, 4, 8, 4, 9, 9, 3, 1, 5, 6, 9, 3, 3, 1, 8, 8, 9, 8, 4, 8,\n",
            "        2, 0, 4, 4, 0, 5, 4, 5, 0, 6, 1, 1, 4, 6, 8, 7])\n"
          ],
          "name": "stdout"
        }
      ]
    },
    {
      "cell_type": "markdown",
      "metadata": {
        "id": "F61HdthJwCSf"
      },
      "source": [
        "#### 1.2.3. Define Model"
      ]
    },
    {
      "cell_type": "code",
      "metadata": {
        "id": "1G-k2sXSv_23"
      },
      "source": [
        "import torch.nn as nn\n",
        "import torch.nn.functional as F"
      ],
      "execution_count": 44,
      "outputs": []
    },
    {
      "cell_type": "code",
      "metadata": {
        "id": "tffadfmfwHxe"
      },
      "source": [
        "class Net(nn.Module):\n",
        "  def __init__(self):\n",
        "    super(Net, self).__init__()\n",
        "    self.layer1 = nn.Sequential(\n",
        "        nn.Conv2d(3,6,5),\n",
        "        nn.BatchNorm2d(6),\n",
        "        nn.ReLU(),\n",
        "        nn.MaxPool2d(2,2)\n",
        "    )\n",
        "    self.fc = nn.Linear(6*14*14, 10)\n",
        "\n",
        "\n",
        "  def forward(self, x):\n",
        "    out = self.layer1(x)\n",
        "    out = out.reshape(out.size(0),-1)\n",
        "    out = self.fc(out)\n",
        "\n",
        "    return out\n",
        "\n",
        "model = Net()"
      ],
      "execution_count": 45,
      "outputs": []
    },
    {
      "cell_type": "code",
      "metadata": {
        "id": "aqNCo47iwrUC",
        "outputId": "85228ae5-1568-4389-c15b-39631ba6a304",
        "colab": {
          "base_uri": "https://localhost:8080/",
          "height": 179
        }
      },
      "source": [
        "# check which layers constitue Network\n",
        "print(model)"
      ],
      "execution_count": 46,
      "outputs": [
        {
          "output_type": "stream",
          "text": [
            "Net(\n",
            "  (layer1): Sequential(\n",
            "    (0): Conv2d(3, 6, kernel_size=(5, 5), stride=(1, 1))\n",
            "    (1): BatchNorm2d(6, eps=1e-05, momentum=0.1, affine=True, track_running_stats=True)\n",
            "    (2): ReLU()\n",
            "    (3): MaxPool2d(kernel_size=2, stride=2, padding=0, dilation=1, ceil_mode=False)\n",
            "  )\n",
            "  (fc): Linear(in_features=1176, out_features=10, bias=True)\n",
            ")\n"
          ],
          "name": "stdout"
        }
      ]
    },
    {
      "cell_type": "code",
      "metadata": {
        "id": "m2awr1pTwyR3",
        "outputId": "7ea92b4d-998a-4721-f310-314c9563f7af",
        "colab": {
          "base_uri": "https://localhost:8080/",
          "height": 89
        }
      },
      "source": [
        "# check how data passes through the Network\n",
        "data_iter = iter(data_loader)\n",
        "images, labels = data_iter.next()\n",
        "outputs = model(images)\n",
        "print(outputs.size(), '\\n', outputs[0], '\\n', outputs[0].tolist().index(max(outputs[0])))"
      ],
      "execution_count": 47,
      "outputs": [
        {
          "output_type": "stream",
          "text": [
            "torch.Size([64, 10]) \n",
            " tensor([ 0.2197, -0.5517,  0.5352,  0.2360, -1.3655, -0.1266,  0.6011,  0.6740,\n",
            "        -0.3055, -0.2245], grad_fn=<SelectBackward>) \n",
            " 7\n"
          ],
          "name": "stdout"
        }
      ]
    },
    {
      "cell_type": "markdown",
      "metadata": {
        "id": "sqcyeZJZ1TjK"
      },
      "source": [
        "#### 1.2.4. Set Loss & Optimizer"
      ]
    },
    {
      "cell_type": "code",
      "metadata": {
        "id": "v_OxhQVy0tNJ"
      },
      "source": [
        "criterion = nn.CrossEntropyLoss()\n",
        "optimizer = torch.optim.SGD(model.parameters(), lr=0.001)"
      ],
      "execution_count": 49,
      "outputs": []
    },
    {
      "cell_type": "markdown",
      "metadata": {
        "id": "OrJ-xeM41lrK"
      },
      "source": [
        "#### 1.2.5. Train / Test"
      ]
    },
    {
      "cell_type": "code",
      "metadata": {
        "id": "AuRRp1_P1fq4",
        "outputId": "411a5c84-8920-4e49-936a-3f23320967c8",
        "colab": {
          "base_uri": "https://localhost:8080/",
          "height": 323
        }
      },
      "source": [
        "epochs = 1\n",
        "for epoch in range(epochs):\n",
        "  for i, (images, labels) in enumerate(data_loader):\n",
        "    # Forward Propagate\n",
        "    outputs = model(images)\n",
        "\n",
        "    # Get Loss, Compute Gradients, Update Parameters\n",
        "    loss = criterion(outputs, labels)\n",
        "    optimizer.zero_grad()\n",
        "    loss.backward()\n",
        "    optimizer.step()\n",
        "\n",
        "    if i % 50 == 0 or (i+1)==len(data_loader):\n",
        "      print('Epoch [{}/{}], Step [{}/{}], Loss: {:.4f}'.format(epoch+1, epochs, i+1, len(data_loader), loss.item()))\n"
      ],
      "execution_count": 50,
      "outputs": [
        {
          "output_type": "stream",
          "text": [
            "Epoch [1/1], Step [1/782], Loss: 2.5005\n",
            "Epoch [1/1], Step [51/782], Loss: 2.1597\n",
            "Epoch [1/1], Step [101/782], Loss: 2.2193\n",
            "Epoch [1/1], Step [151/782], Loss: 2.0503\n",
            "Epoch [1/1], Step [201/782], Loss: 2.0002\n",
            "Epoch [1/1], Step [251/782], Loss: 2.1444\n",
            "Epoch [1/1], Step [301/782], Loss: 2.0217\n",
            "Epoch [1/1], Step [351/782], Loss: 1.9076\n",
            "Epoch [1/1], Step [401/782], Loss: 1.8414\n",
            "Epoch [1/1], Step [451/782], Loss: 1.9274\n",
            "Epoch [1/1], Step [501/782], Loss: 1.9516\n",
            "Epoch [1/1], Step [551/782], Loss: 2.0390\n",
            "Epoch [1/1], Step [601/782], Loss: 1.9507\n",
            "Epoch [1/1], Step [651/782], Loss: 1.9251\n",
            "Epoch [1/1], Step [701/782], Loss: 1.9117\n",
            "Epoch [1/1], Step [751/782], Loss: 1.7867\n",
            "Epoch [1/1], Step [782/782], Loss: 1.8981\n"
          ],
          "name": "stdout"
        }
      ]
    },
    {
      "cell_type": "markdown",
      "metadata": {
        "id": "MYs0e-qZ216G"
      },
      "source": [
        "#### 1.2.6. Save & Visualization"
      ]
    },
    {
      "cell_type": "code",
      "metadata": {
        "id": "9b1CrW1T204A"
      },
      "source": [
        "torch.save(model.state_dict(), 'my_model.pth')"
      ],
      "execution_count": 51,
      "outputs": []
    },
    {
      "cell_type": "code",
      "metadata": {
        "id": "qPubXL4O2mVw",
        "outputId": "72d76322-2620-4615-ce2c-f49439e5eb7e",
        "colab": {
          "base_uri": "https://localhost:8080/",
          "height": 35
        }
      },
      "source": [
        "# check the saved model\n",
        "! ls"
      ],
      "execution_count": 52,
      "outputs": [
        {
          "output_type": "stream",
          "text": [
            "datasets  my_model.pth\tsample_data\n"
          ],
          "name": "stdout"
        }
      ]
    },
    {
      "cell_type": "code",
      "metadata": {
        "id": "jQyuimvK3IsY"
      },
      "source": [
        ""
      ],
      "execution_count": null,
      "outputs": []
    },
    {
      "cell_type": "markdown",
      "metadata": {
        "id": "66RY4aYGqMdq"
      },
      "source": [
        "## 2. XOR in pytorch"
      ]
    },
    {
      "cell_type": "code",
      "metadata": {
        "id": "gAWG7XcLqSlY"
      },
      "source": [
        "import numpy as np\n",
        "import torch\n",
        "import torch.nn as nn\n",
        "import matplotlib.pyplot as plt"
      ],
      "execution_count": 53,
      "outputs": []
    },
    {
      "cell_type": "code",
      "metadata": {
        "id": "YIpy6hrOqbPH"
      },
      "source": [
        "x = torch.tensor([[0.,0.],[0.,1.], [1.,0.], [1.,1.]])\n",
        "y = torch.tensor([0.,1.,1.,0.]).view(-1,1)"
      ],
      "execution_count": 54,
      "outputs": []
    },
    {
      "cell_type": "code",
      "metadata": {
        "id": "dnsGWjkxqnAQ"
      },
      "source": [
        "class XOR_net(nn.Module):\n",
        "  def __init__(self):\n",
        "    super(XOR_net, self).__init__()\n",
        "    self.layer1 = nn.Sequential(\n",
        "        nn.Linear(2,1),\n",
        "        nn.Sigmoid()\n",
        "    )\n",
        "    self.layer2 = nn.Sequential(\n",
        "        nn.Linear(2,3),\n",
        "        nn.Sigmoid(),\n",
        "        nn.Linear(3,1),\n",
        "        nn.Sigmoid()\n",
        "    )\n",
        "\n",
        "  def forward(self, input, num_layer):\n",
        "    if num_layer == 1:\n",
        "      out = self.layer1(input)\n",
        "    elif num_layer == 2:\n",
        "      out = self.layer2(input)\n",
        "    else:\n",
        "      print(\"out of range\")\n",
        "      raise\n",
        "    return out"
      ],
      "execution_count": 55,
      "outputs": []
    },
    {
      "cell_type": "code",
      "metadata": {
        "id": "HQhyo-Fjspb4"
      },
      "source": [
        "net = XOR_net()"
      ],
      "execution_count": 56,
      "outputs": []
    },
    {
      "cell_type": "code",
      "metadata": {
        "id": "VBqqaOCKs0YI",
        "outputId": "24b5b9a5-7bd6-4043-e6f5-4fba9c8ecfcc",
        "colab": {
          "base_uri": "https://localhost:8080/",
          "height": 233
        }
      },
      "source": [
        "print(net)"
      ],
      "execution_count": 57,
      "outputs": [
        {
          "output_type": "stream",
          "text": [
            "XOR_net(\n",
            "  (layer1): Sequential(\n",
            "    (0): Linear(in_features=2, out_features=1, bias=True)\n",
            "    (1): Sigmoid()\n",
            "  )\n",
            "  (layer2): Sequential(\n",
            "    (0): Linear(in_features=2, out_features=3, bias=True)\n",
            "    (1): Sigmoid()\n",
            "    (2): Linear(in_features=3, out_features=1, bias=True)\n",
            "    (3): Sigmoid()\n",
            "  )\n",
            ")\n"
          ],
          "name": "stdout"
        }
      ]
    },
    {
      "cell_type": "code",
      "metadata": {
        "id": "jfSWXzoUvI6J"
      },
      "source": [
        "learning_rate = 0.05\n",
        "epochs = 10000"
      ],
      "execution_count": 58,
      "outputs": []
    },
    {
      "cell_type": "code",
      "metadata": {
        "id": "urSr1B_lu6sS"
      },
      "source": [
        "criterion = nn.BCELoss()\n",
        "optimizer = torch.optim.SGD(net.parameters(), lr = learning_rate)"
      ],
      "execution_count": 59,
      "outputs": []
    },
    {
      "cell_type": "code",
      "metadata": {
        "id": "VBRiQ1wwBiJh"
      },
      "source": [
        "error1, error2 = [], []"
      ],
      "execution_count": 60,
      "outputs": []
    },
    {
      "cell_type": "code",
      "metadata": {
        "id": "ha_adQzuuMhv",
        "outputId": "e0c1bc73-eadb-42fd-9ffc-aae191dce20e",
        "colab": {
          "base_uri": "https://localhost:8080/",
          "height": 395
        }
      },
      "source": [
        "for epoch in range(epochs):\n",
        "  for i, (input, ans) in enumerate(zip(x,y)):\n",
        "    output1 = net(input,1)\n",
        "    output2 = net(input,2)\n",
        "\n",
        "    loss1 = criterion(output1, ans)\n",
        "    loss2 = criterion(output2, ans)\n",
        "\n",
        "    optimizer.zero_grad()\n",
        "    loss1.backward()\n",
        "    loss2.backward()\n",
        "    optimizer.step()\n",
        "\n",
        "    error1.append(loss1.detach().numpy())\n",
        "    error2.append(loss2.detach().numpy())\n",
        "\n",
        "  if epoch % 500 == 0 or (epoch+1)==epochs:\n",
        "    print('Epoch [{}/{}] Loss1: {:.4f} Loss2: {:.4f}'.format(epoch+1, epochs, loss1, loss2))"
      ],
      "execution_count": 61,
      "outputs": [
        {
          "output_type": "stream",
          "text": [
            "Epoch [1/10000] Loss1: 0.7784 Loss2: 1.0256\n",
            "Epoch [501/10000] Loss1: 0.7030 Loss2: 0.7549\n",
            "Epoch [1001/10000] Loss1: 0.7058 Loss2: 0.8329\n",
            "Epoch [1501/10000] Loss1: 0.7059 Loss2: 0.9768\n",
            "Epoch [2001/10000] Loss1: 0.7059 Loss2: 0.7373\n",
            "Epoch [2501/10000] Loss1: 0.7059 Loss2: 0.2140\n",
            "Epoch [3001/10000] Loss1: 0.7059 Loss2: 0.0805\n",
            "Epoch [3501/10000] Loss1: 0.7059 Loss2: 0.0446\n",
            "Epoch [4001/10000] Loss1: 0.7059 Loss2: 0.0297\n",
            "Epoch [4501/10000] Loss1: 0.7059 Loss2: 0.0219\n",
            "Epoch [5001/10000] Loss1: 0.7059 Loss2: 0.0171\n",
            "Epoch [5501/10000] Loss1: 0.7059 Loss2: 0.0139\n",
            "Epoch [6001/10000] Loss1: 0.7059 Loss2: 0.0117\n",
            "Epoch [6501/10000] Loss1: 0.7059 Loss2: 0.0101\n",
            "Epoch [7001/10000] Loss1: 0.7059 Loss2: 0.0088\n",
            "Epoch [7501/10000] Loss1: 0.7059 Loss2: 0.0078\n",
            "Epoch [8001/10000] Loss1: 0.7059 Loss2: 0.0070\n",
            "Epoch [8501/10000] Loss1: 0.7059 Loss2: 0.0063\n",
            "Epoch [9001/10000] Loss1: 0.7059 Loss2: 0.0058\n",
            "Epoch [9501/10000] Loss1: 0.7059 Loss2: 0.0053\n",
            "Epoch [10000/10000] Loss1: 0.7059 Loss2: 0.0049\n"
          ],
          "name": "stdout"
        }
      ]
    },
    {
      "cell_type": "code",
      "metadata": {
        "id": "ODITXvYEvymK",
        "outputId": "409a5866-5d01-4640-83cb-2ab5227270d5",
        "colab": {
          "base_uri": "https://localhost:8080/",
          "height": 89
        }
      },
      "source": [
        "# Test after train\n",
        "for input, target in zip (x, y):\n",
        "  output1 = net(input,1)\n",
        "  output2 = net(input,2)\n",
        "  print(\"input: \",input, \"layer1: \", output1.data, \"\\tlayer2: \", output2.data, \"\\tanswer:\", target)"
      ],
      "execution_count": 62,
      "outputs": [
        {
          "output_type": "stream",
          "text": [
            "input:  tensor([0., 0.]) layer1:  tensor([0.5063]) \tlayer2:  tensor([0.0055]) \tanswer: tensor([0.])\n",
            "input:  tensor([0., 1.]) layer1:  tensor([0.5000]) \tlayer2:  tensor([0.9945]) \tanswer: tensor([1.])\n",
            "input:  tensor([1., 0.]) layer1:  tensor([0.4937]) \tlayer2:  tensor([0.9945]) \tanswer: tensor([1.])\n",
            "input:  tensor([1., 1.]) layer1:  tensor([0.4873]) \tlayer2:  tensor([0.0049]) \tanswer: tensor([0.])\n"
          ],
          "name": "stdout"
        }
      ]
    },
    {
      "cell_type": "code",
      "metadata": {
        "id": "8gDcWB6Uv2oR",
        "outputId": "fdd2761f-1088-4b8d-c2db-ab12ca14ca4f",
        "colab": {
          "base_uri": "https://localhost:8080/",
          "height": 281
        }
      },
      "source": [
        "plt.plot(error1)\n",
        "plt.title(\"Layer1 error\")\n",
        "plt.show()"
      ],
      "execution_count": 63,
      "outputs": [
        {
          "output_type": "display_data",
          "data": {
            "image/png": "[encoded data removed]",
            "text/plain": [
              "<Figure size 432x288 with 1 Axes>"
            ]
          },
          "metadata": {
            "tags": [],
            "needs_background": "light"
          }
        }
      ]
    },
    {
      "cell_type": "code",
      "metadata": {
        "id": "eJkdZbPKBajR",
        "outputId": "c72a0667-263f-47b3-f407-d91e508d3034",
        "colab": {
          "base_uri": "https://localhost:8080/",
          "height": 281
        }
      },
      "source": [
        "plt.plot(error2)\n",
        "plt.title(\"Layer2 error\")\n",
        "plt.show()"
      ],
      "execution_count": 64,
      "outputs": [
        {
          "output_type": "display_data",
          "data": {
            "image/png": "[encoded data removed]",
            "text/plain": [
              "<Figure size 432x288 with 1 Axes>"
            ]
          },
          "metadata": {
            "tags": [],
            "needs_background": "light"
          }
        }
      ]
    }
  ]
}