{
  "nbformat": 4,
  "nbformat_minor": 0,
  "metadata": {
    "colab": {
      "name": "[Intro] XOR network",
      "provenance": [],
      "collapsed_sections": [
        "66RY4aYGqMdq"
      ]
    },
    "kernelspec": {
      "name": "python3",
      "display_name": "Python 3"
    },
    "accelerator": "GPU"
  },
  "cells": [
    {
      "cell_type": "markdown",
      "metadata": {
        "id": "BA8s3y3BiySF"
      },
      "source": [
        "# 인공지능(딥러닝)개론 EE4178\n",
        "## Pytorch 실습\n",
        "\n",
        "\n",
        "---\n",
        "Day1. Intro\n",
        "\n",
        "\n",
        "> 0. Google Colab and Basic Python\n",
        "\n",
        "> 1. Pytorch\n",
        "\n",
        "> 2. XOR in Pytorch\n",
        "\n",
        "\n",
        "\n",
        "\n",
        "\n",
        "\n",
        "\n"
      ]
    },
    {
      "cell_type": "markdown",
      "metadata": {
        "id": "66RY4aYGqMdq"
      },
      "source": [
        "## 2. XOR in pytorch"
      ]
    },
    {
      "cell_type": "code",
      "metadata": {
        "id": "gAWG7XcLqSlY"
      },
      "source": [
        "import numpy as np\n",
        "import torch\n",
        "import torch.nn as nn\n",
        "import matplotlib.pyplot as plt"
      ],
      "execution_count": null,
      "outputs": []
    },
    {
      "cell_type": "code",
      "metadata": {
        "id": "YIpy6hrOqbPH"
      },
      "source": [
        "x = torch.tensor([[0.,0.],[0.,1.], [1.,0.], [1.,1.]])\n",
        "y = torch.tensor([0.,1.,1.,0.]).view(-1,1)"
      ],
      "execution_count": null,
      "outputs": []
    },
    {
      "cell_type": "code",
      "metadata": {
        "id": "eTLI17IgfFJ3",
        "outputId": "3aeb01e8-823d-4bd4-dcaf-e4555da41c37",
        "colab": {
          "base_uri": "https://localhost:8080/"
        }
      },
      "source": [
        "y"
      ],
      "execution_count": null,
      "outputs": [
        {
          "output_type": "execute_result",
          "data": {
            "text/plain": [
              "tensor([[0.],\n",
              "        [1.],\n",
              "        [1.],\n",
              "        [0.]])"
            ]
          },
          "metadata": {
            "tags": []
          },
          "execution_count": 156
        }
      ]
    },
    {
      "cell_type": "code",
      "metadata": {
        "id": "dnsGWjkxqnAQ"
      },
      "source": [
        "class XOR_net(nn.Module):\n",
        "  def __init__(self):\n",
        "    super(XOR_net, self).__init__()\n",
        "    self.layer1 = nn.Sequential(\n",
        "        nn.Linear(2,1),\n",
        "        nn.Sigmoid()\n",
        "    )\n",
        "    self.layer2 = nn.Sequential(\n",
        "        nn.Linear(2,3),\n",
        "        nn.Sigmoid(),\n",
        "        nn.Linear(3,1),\n",
        "        nn.Sigmoid()\n",
        "    )\n",
        "\n",
        "  def forward(self, input, num_layer):\n",
        "    if num_layer == 1:\n",
        "      out = self.layer1(input)\n",
        "    elif num_layer == 2:\n",
        "      out = self.layer2(input)\n",
        "    else:\n",
        "      print(\"out of range\")\n",
        "      raise\n",
        "    return out"
      ],
      "execution_count": null,
      "outputs": []
    },
    {
      "cell_type": "code",
      "metadata": {
        "id": "HQhyo-Fjspb4"
      },
      "source": [
        "net = XOR_net()"
      ],
      "execution_count": null,
      "outputs": []
    },
    {
      "cell_type": "code",
      "metadata": {
        "id": "VBqqaOCKs0YI",
        "outputId": "118fa7f1-a322-4385-d5a1-7d782c01d7ac",
        "colab": {
          "base_uri": "https://localhost:8080/"
        }
      },
      "source": [
        "print(net)"
      ],
      "execution_count": null,
      "outputs": [
        {
          "output_type": "stream",
          "text": [
            "XOR_net(\n",
            "  (layer1): Sequential(\n",
            "    (0): Linear(in_features=2, out_features=1, bias=True)\n",
            "    (1): Sigmoid()\n",
            "  )\n",
            "  (layer2): Sequential(\n",
            "    (0): Linear(in_features=2, out_features=3, bias=True)\n",
            "    (1): Sigmoid()\n",
            "    (2): Linear(in_features=3, out_features=1, bias=True)\n",
            "    (3): Sigmoid()\n",
            "  )\n",
            ")\n"
          ],
          "name": "stdout"
        }
      ]
    },
    {
      "cell_type": "code",
      "metadata": {
        "id": "jfSWXzoUvI6J"
      },
      "source": [
        "learning_rate = 0.05\n",
        "epochs = 10000"
      ],
      "execution_count": null,
      "outputs": []
    },
    {
      "cell_type": "code",
      "metadata": {
        "id": "urSr1B_lu6sS"
      },
      "source": [
        "criterion = nn.BCELoss()\n",
        "optimizer = torch.optim.SGD(net.parameters(), lr = learning_rate)"
      ],
      "execution_count": null,
      "outputs": []
    },
    {
      "cell_type": "code",
      "metadata": {
        "id": "VBRiQ1wwBiJh"
      },
      "source": [
        "error1, error2 = [], []"
      ],
      "execution_count": null,
      "outputs": []
    },
    {
      "cell_type": "code",
      "metadata": {
        "id": "ha_adQzuuMhv",
        "outputId": "a7128f8e-e208-4fdb-8899-dd92ed41c491",
        "colab": {
          "base_uri": "https://localhost:8080/"
        }
      },
      "source": [
        "for epoch in range(epochs):\n",
        "  for i, (input, ans) in enumerate(zip(x,y)):\n",
        "    output1 = net(input,1)\n",
        "    output2 = net(input,2)\n",
        "\n",
        "    loss1 = criterion(output1, ans)\n",
        "    loss2 = criterion(output2, ans)\n",
        "\n",
        "    optimizer.zero_grad()\n",
        "    loss1.backward()\n",
        "    loss2.backward()\n",
        "    optimizer.step()\n",
        "\n",
        "    error1.append(loss1.detach().numpy())\n",
        "    error2.append(loss2.detach().numpy())\n",
        "\n",
        "  if epoch % 500 == 0 or (epoch+1)==epochs:\n",
        "    print('Epoch [{}/{}] Loss1: {:.4f} Loss2: {:.4f}'.format(epoch+1, epochs, loss1, loss2))"
      ],
      "execution_count": null,
      "outputs": [
        {
          "output_type": "stream",
          "text": [
            "Epoch [1/10000] Loss1: 0.4377 Loss2: 0.4713\n",
            "Epoch [501/10000] Loss1: 0.7080 Loss2: 0.7475\n",
            "Epoch [1001/10000] Loss1: 0.7059 Loss2: 0.8318\n",
            "Epoch [1501/10000] Loss1: 0.7059 Loss2: 0.9460\n",
            "Epoch [2001/10000] Loss1: 0.7059 Loss2: 0.6724\n",
            "Epoch [2501/10000] Loss1: 0.7059 Loss2: 0.2279\n",
            "Epoch [3001/10000] Loss1: 0.7059 Loss2: 0.1035\n",
            "Epoch [3501/10000] Loss1: 0.7059 Loss2: 0.0629\n",
            "Epoch [4001/10000] Loss1: 0.7059 Loss2: 0.0442\n",
            "Epoch [4501/10000] Loss1: 0.7059 Loss2: 0.0338\n",
            "Epoch [5001/10000] Loss1: 0.7059 Loss2: 0.0272\n",
            "Epoch [5501/10000] Loss1: 0.7059 Loss2: 0.0227\n",
            "Epoch [6001/10000] Loss1: 0.7059 Loss2: 0.0194\n",
            "Epoch [6501/10000] Loss1: 0.7059 Loss2: 0.0170\n",
            "Epoch [7001/10000] Loss1: 0.7059 Loss2: 0.0151\n",
            "Epoch [7501/10000] Loss1: 0.7059 Loss2: 0.0135\n",
            "Epoch [8001/10000] Loss1: 0.7059 Loss2: 0.0123\n",
            "Epoch [8501/10000] Loss1: 0.7059 Loss2: 0.0112\n",
            "Epoch [9001/10000] Loss1: 0.7059 Loss2: 0.0103\n",
            "Epoch [9501/10000] Loss1: 0.7059 Loss2: 0.0096\n",
            "Epoch [10000/10000] Loss1: 0.7059 Loss2: 0.0089\n"
          ],
          "name": "stdout"
        }
      ]
    },
    {
      "cell_type": "code",
      "metadata": {
        "id": "ODITXvYEvymK",
        "outputId": "a1127e6f-2c8a-4eeb-d7cb-6e7084a5ba45",
        "colab": {
          "base_uri": "https://localhost:8080/"
        }
      },
      "source": [
        "# Test after train\n",
        "for input, target in zip (x, y):\n",
        "  output1 = net(input,1)\n",
        "  output2 = net(input,2)\n",
        "  print(\"input: \",input, \"layer1: \", output1.data, \"\\tlayer2: \", output2.data, \"\\tanswer:\", target)"
      ],
      "execution_count": null,
      "outputs": [
        {
          "output_type": "stream",
          "text": [
            "input:  tensor([0., 0.]) layer1:  tensor([0.5063]) \tlayer2:  tensor([0.0052]) \tanswer: tensor([0.])\n",
            "input:  tensor([0., 1.]) layer1:  tensor([0.5000]) \tlayer2:  tensor([0.9942]) \tanswer: tensor([1.])\n",
            "input:  tensor([1., 0.]) layer1:  tensor([0.4937]) \tlayer2:  tensor([0.9942]) \tanswer: tensor([1.])\n",
            "input:  tensor([1., 1.]) layer1:  tensor([0.4873]) \tlayer2:  tensor([0.0089]) \tanswer: tensor([0.])\n"
          ],
          "name": "stdout"
        }
      ]
    },
    {
      "cell_type": "code",
      "metadata": {
        "id": "8gDcWB6Uv2oR",
        "outputId": "b7c46371-5468-41f6-a574-11064e0cf53c",
        "colab": {
          "base_uri": "https://localhost:8080/",
          "height": 281
        }
      },
      "source": [
        "plt.plot(error1)\n",
        "plt.title(\"Layer1 error\")\n",
        "plt.show()"
      ],
      "execution_count": null,
      "outputs": [
        {
          "output_type": "display_data",
          "data": {
            "image/png": "[encoded data removed]",
            "text/plain": [
              "<Figure size 432x288 with 1 Axes>"
            ]
          },
          "metadata": {
            "tags": [],
            "needs_background": "light"
          }
        }
      ]
    },
    {
      "cell_type": "code",
      "metadata": {
        "id": "eJkdZbPKBajR",
        "outputId": "5580dc40-de30-48e3-98e6-558a2e03e579",
        "colab": {
          "base_uri": "https://localhost:8080/",
          "height": 281
        }
      },
      "source": [
        "plt.plot(error2)\n",
        "plt.title(\"Layer2 error\")\n",
        "plt.show()"
      ],
      "execution_count": null,
      "outputs": [
        {
          "output_type": "display_data",
          "data": {
            "image/png": "[encoded data removed]",
            "text/plain": [
              "<Figure size 432x288 with 1 Axes>"
            ]
          },
          "metadata": {
            "tags": [],
            "needs_background": "light"
          }
        }
      ]
    },
    {
      "cell_type": "code",
      "metadata": {
        "id": "uvnZW_7VgGVo"
      },
      "source": [
        ""
      ],
      "execution_count": null,
      "outputs": []
    }
  ]
}