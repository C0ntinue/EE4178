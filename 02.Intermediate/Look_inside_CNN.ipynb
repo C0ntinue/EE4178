{
  "nbformat": 4,
  "nbformat_minor": 0,
  "metadata": {
    "colab": {
      "name": "Look inside CNN.ipynb",
      "provenance": []
    },
    "kernelspec": {
      "name": "python3",
      "display_name": "Python 3"
    },
    "accelerator": "GPU"
  },
  "cells": [
    {
      "cell_type": "markdown",
      "metadata": {
        "id": "29M9YirNgg2A"
      },
      "source": [
        "# Look inside CNN\n",
        "\n",
        "- MNIST"
      ]
    },
    {
      "cell_type": "code",
      "metadata": {
        "id": "UHo23NMTgeG4"
      },
      "source": [
        "import numpy as np\n",
        "import torch\n",
        "import torch.nn as nn\n",
        "import torch.nn.functional as F\n",
        "import torchvision\n",
        "import torchvision.transforms as transforms\n",
        "\n",
        "import matplotlib\n",
        "import matplotlib.pyplot as plt\n",
        "from matplotlib.pyplot import imshow\n",
        "%matplotlib inline"
      ],
      "execution_count": 1,
      "outputs": []
    },
    {
      "cell_type": "markdown",
      "metadata": {
        "id": "ZpSgB0w-kxzS"
      },
      "source": [
        "## 0. Define Hyper-parameters and pre-set device on cuda"
      ]
    },
    {
      "cell_type": "code",
      "metadata": {
        "id": "lL4n5E5_jooT"
      },
      "source": [
        "# Device Configuration\n",
        "device = torch.device('cuda' if torch.cuda.is_available() else 'cpu')\n",
        "\n",
        "# Adjust Dataset classes and channels\n",
        "num_classes = 10\n",
        "in_channel = 1\n",
        "\n",
        "# Hyper-parameters\n",
        "batch_size = 50\n",
        "max_pool_kernel = 2\n",
        "learning_rate = 0.0001\n",
        "num_epochs = 5"
      ],
      "execution_count": 2,
      "outputs": []
    },
    {
      "cell_type": "markdown",
      "metadata": {
        "id": "CYXCSAQWlAGb"
      },
      "source": [
        "## 1. Load Data"
      ]
    },
    {
      "cell_type": "code",
      "metadata": {
        "id": "W8jf2i0YkViN"
      },
      "source": [
        "train_data = torchvision.datasets.MNIST(root='./datasets',\n",
        "                                        train=True,\n",
        "                                        transform=transforms.ToTensor(),\n",
        "                                        download=True)\n",
        "\n",
        "test_data = torchvision.datasets.MNIST(root='./dataset',\n",
        "                                       train=False,\n",
        "                                       transform=transforms.ToTensor(),\n",
        "                                       download=True)"
      ],
      "execution_count": 3,
      "outputs": []
    },
    {
      "cell_type": "markdown",
      "metadata": {
        "id": "6U073f7JlCsO"
      },
      "source": [
        "\n",
        "## 2. Define Dataloader"
      ]
    },
    {
      "cell_type": "code",
      "metadata": {
        "id": "zch-a1_Skt4L"
      },
      "source": [
        "train_loader = torch.utils.data.DataLoader(dataset=train_data,\n",
        "                                          batch_size=batch_size,\n",
        "                                          shuffle=True)\n",
        "test_loader = torch.utils.data.DataLoader(dataset=test_data,\n",
        "                                          batch_size=batch_size,\n",
        "                                          shuffle=False)"
      ],
      "execution_count": 4,
      "outputs": []
    },
    {
      "cell_type": "markdown",
      "metadata": {
        "id": "kq_T3F6plXZJ"
      },
      "source": [
        "## 3. Define Model"
      ]
    },
    {
      "cell_type": "code",
      "metadata": {
        "id": "RRx7cdlAlWle"
      },
      "source": [
        "class ConvNetStep(nn.Module):\n",
        "  def __init__(self, num_classes=10):\n",
        "    super(ConvNetStep, self).__init__()\n",
        "    self.layer1 = nn.Sequential(\n",
        "        nn.Conv2d(in_channels=in_channel, out_channels=16, kernel_size=5, stride=1, padding=2),\n",
        "        nn.BatchNorm2d(num_features=16),\n",
        "        nn.ReLU(),\n",
        "        nn.MaxPool2d(kernel_size=max_pool_kernel)\n",
        "    )\n",
        "    self.layer2 = nn.Sequential(\n",
        "        nn.Conv2d(in_channels=16, out_channels=32, kernel_size=5, stride=1, padding=2),\n",
        "        nn.BatchNorm2d(num_features=32),\n",
        "        nn.ReLU(),\n",
        "        nn.MaxPool2d(kernel_size=max_pool_kernel)\n",
        "    )\n",
        "    self.fc1 = nn.Linear(in_features=7*7*32, out_features=120)\n",
        "    self.fc2 = nn.Linear(in_features=120, out_features=num_classes)\n",
        "\n",
        "  def forward1(self, x):\n",
        "    x = self.layer1(x)\n",
        "    return x\n",
        "  \n",
        "  def forward2(self, x):\n",
        "    x = self.layer2(x)\n",
        "    return x\n",
        "\n",
        "  def forward3(self, x):\n",
        "    x = x.reshape(x.size(0),-1)\n",
        "    return self.fc1(x)\n",
        "\n",
        "  def forward4(self, x):\n",
        "    return self.fc2(x)\n",
        "\n",
        "  def forward(self, x):\n",
        "    x = self.layer1(x)\n",
        "    x = self.layer2(x)\n",
        "    x = self.fc1(x.reshape(x.size(0), -1))\n",
        "    x = F.relu(x)\n",
        "    x = F.softmax(self.fc2(x))\n",
        "    return x\n",
        "\n",
        "\n",
        "\n",
        "model = ConvNetStep()"
      ],
      "execution_count": 5,
      "outputs": []
    },
    {
      "cell_type": "markdown",
      "metadata": {
        "id": "AwKTTPtjocvV"
      },
      "source": [
        "### 3.1 Inside CNN"
      ]
    },
    {
      "cell_type": "markdown",
      "metadata": {
        "id": "1u2xujCdomB_"
      },
      "source": [
        "#### 3.1.0 Row Image (MNIST)"
      ]
    },
    {
      "cell_type": "code",
      "metadata": {
        "id": "aT2Zjq1dnDhc"
      },
      "source": [
        "def image_show(tensor_image):\n",
        "  image = tensor_image.reshape(tensor_image.size()[1], tensor_image.size()[2])\n",
        "  imshow(image, cmap='gray')\n",
        "\n",
        "images, labels = next(iter(train_loader))\n",
        "image1, label1 = images[0], labels[0]\n",
        "image2, label2 = images[1], labels[1]"
      ],
      "execution_count": 6,
      "outputs": []
    },
    {
      "cell_type": "code",
      "metadata": {
        "id": "CMOuQakFnYYd",
        "outputId": "ac516322-b185-447f-80f1-2ff0fe03fac6",
        "colab": {
          "base_uri": "https://localhost:8080/",
          "height": 299
        }
      },
      "source": [
        "image_show(image1)\n",
        "plt.title(label1)"
      ],
      "execution_count": 7,
      "outputs": [
        {
          "output_type": "execute_result",
          "data": {
            "text/plain": [
              "Text(0.5, 1.0, 'tensor(1)')"
            ]
          },
          "metadata": {
            "tags": []
          },
          "execution_count": 7
        },
        {
          "output_type": "display_data",
          "data": {
            "image/png": "[encoded data removed]",
            "text/plain": [
              "<Figure size 432x288 with 1 Axes>"
            ]
          },
          "metadata": {
            "tags": [],
            "needs_background": "light"
          }
        }
      ]
    },
    {
      "cell_type": "code",
      "metadata": {
        "id": "EfzplCjpoGBt",
        "outputId": "f48f85d6-9a87-4253-e2f9-eacfdaf1e048",
        "colab": {
          "base_uri": "https://localhost:8080/",
          "height": 299
        }
      },
      "source": [
        "image_show(image2)\n",
        "plt.title(label2)"
      ],
      "execution_count": 8,
      "outputs": [
        {
          "output_type": "execute_result",
          "data": {
            "text/plain": [
              "Text(0.5, 1.0, 'tensor(2)')"
            ]
          },
          "metadata": {
            "tags": []
          },
          "execution_count": 8
        },
        {
          "output_type": "display_data",
          "data": {
            "image/png": "[encoded data removed]",
            "text/plain": [
              "<Figure size 432x288 with 1 Axes>"
            ]
          },
          "metadata": {
            "tags": [],
            "needs_background": "light"
          }
        }
      ]
    },
    {
      "cell_type": "markdown",
      "metadata": {
        "id": "dp8w9wxKosLR"
      },
      "source": [
        "#### 3.1.1 After 1st Convolution layer\n",
        "\n",
        "- ConvNetStep의 layer1"
      ]
    },
    {
      "cell_type": "code",
      "metadata": {
        "id": "2X9JxV1HoH89",
        "outputId": "142d07a3-2924-4419-d46e-d6bcf3738f7e",
        "colab": {
          "base_uri": "https://localhost:8080/"
        }
      },
      "source": [
        "output1 = model.forward1(images)\n",
        "print(output1.size())"
      ],
      "execution_count": 9,
      "outputs": [
        {
          "output_type": "stream",
          "text": [
            "torch.Size([50, 16, 14, 14])\n"
          ],
          "name": "stdout"
        }
      ]
    },
    {
      "cell_type": "code",
      "metadata": {
        "id": "2CSHt_oOpGDE",
        "outputId": "5a6f7dc7-2519-44ee-afe0-900228240014",
        "colab": {
          "base_uri": "https://localhost:8080/"
        }
      },
      "source": [
        "image1, image2 = output1[0], output1[1]\n",
        "print(image1.size(), image2.size())"
      ],
      "execution_count": 10,
      "outputs": [
        {
          "output_type": "stream",
          "text": [
            "torch.Size([16, 14, 14]) torch.Size([16, 14, 14])\n"
          ],
          "name": "stdout"
        }
      ]
    },
    {
      "cell_type": "code",
      "metadata": {
        "id": "P9Hfk60UpVyF",
        "outputId": "4b0d3863-5ede-4db9-a754-0980e05db39c",
        "colab": {
          "base_uri": "https://localhost:8080/",
          "height": 283
        }
      },
      "source": [
        "imshow(image1[0].detach().numpy(), cmap='gray')"
      ],
      "execution_count": 11,
      "outputs": [
        {
          "output_type": "execute_result",
          "data": {
            "text/plain": [
              "<matplotlib.image.AxesImage at 0x7f679aff3b38>"
            ]
          },
          "metadata": {
            "tags": []
          },
          "execution_count": 11
        },
        {
          "output_type": "display_data",
          "data": {
            "image/png": "[encoded data removed]",
            "text/plain": [
              "<Figure size 432x288 with 1 Axes>"
            ]
          },
          "metadata": {
            "tags": [],
            "needs_background": "light"
          }
        }
      ]
    },
    {
      "cell_type": "code",
      "metadata": {
        "id": "ExbuaXJWpgTV",
        "outputId": "38408f2d-725d-4306-b8e8-5e4b72859e47",
        "colab": {
          "base_uri": "https://localhost:8080/",
          "height": 283
        }
      },
      "source": [
        "imshow(image1[1].detach().numpy(), cmap='gray')"
      ],
      "execution_count": 12,
      "outputs": [
        {
          "output_type": "execute_result",
          "data": {
            "text/plain": [
              "<matplotlib.image.AxesImage at 0x7f679aa11780>"
            ]
          },
          "metadata": {
            "tags": []
          },
          "execution_count": 12
        },
        {
          "output_type": "display_data",
          "data": {
            "image/png": "[encoded data removed]",
            "text/plain": [
              "<Figure size 432x288 with 1 Axes>"
            ]
          },
          "metadata": {
            "tags": [],
            "needs_background": "light"
          }
        }
      ]
    },
    {
      "cell_type": "code",
      "metadata": {
        "id": "sOajFd9ip35d",
        "outputId": "df0434d5-ad45-463f-e63f-54d83577ac83",
        "colab": {
          "base_uri": "https://localhost:8080/",
          "height": 137
        }
      },
      "source": [
        "fig = plt.figure(figsize=(30,30))\n",
        "\n",
        "for i in range(len(image1)):\n",
        "  plt.subplot(1,len(image1),i+1)\n",
        "  plt.imshow(image1[i].detach().numpy())"
      ],
      "execution_count": 13,
      "outputs": [
        {
          "output_type": "display_data",
          "data": {
            "image/png": "[encoded data removed]",
            "text/plain": [
              "<Figure size 2160x2160 with 16 Axes>"
            ]
          },
          "metadata": {
            "tags": [],
            "needs_background": "light"
          }
        }
      ]
    },
    {
      "cell_type": "code",
      "metadata": {
        "id": "ei26BO8NqhMG",
        "outputId": "9c334eac-dd88-44df-d777-a3740da398ac",
        "colab": {
          "base_uri": "https://localhost:8080/",
          "height": 137
        }
      },
      "source": [
        "fig = plt.figure(figsize=(30,30))\n",
        "\n",
        "for i in range(len(image2)):\n",
        "  plt.subplot(1,len(image2),i+1)\n",
        "  plt.imshow(image2[i].detach().numpy(), cmap='gray')"
      ],
      "execution_count": 14,
      "outputs": [
        {
          "output_type": "display_data",
          "data": {
            "image/png": "[encoded data removed]",
            "text/plain": [
              "<Figure size 2160x2160 with 16 Axes>"
            ]
          },
          "metadata": {
            "tags": [],
            "needs_background": "light"
          }
        }
      ]
    },
    {
      "cell_type": "markdown",
      "metadata": {
        "id": "Zwa2TN4OsOVz"
      },
      "source": [
        "#### 3.1.2. After 2nd Convolution layer\n",
        "\n",
        "- ConvNetStep의 layer2"
      ]
    },
    {
      "cell_type": "code",
      "metadata": {
        "id": "nkWMoLrzr_8P",
        "outputId": "30a1547a-1eca-41b0-ad35-e2161d3734e5",
        "colab": {
          "base_uri": "https://localhost:8080/"
        }
      },
      "source": [
        "output2 = model.forward2(output1)\n",
        "print(output2.size())"
      ],
      "execution_count": 15,
      "outputs": [
        {
          "output_type": "stream",
          "text": [
            "torch.Size([50, 32, 7, 7])\n"
          ],
          "name": "stdout"
        }
      ]
    },
    {
      "cell_type": "code",
      "metadata": {
        "id": "F1aghySisdM3",
        "outputId": "bedeaf4f-6574-4cfe-c6af-a3efd1fd158a",
        "colab": {
          "base_uri": "https://localhost:8080/",
          "height": 283
        }
      },
      "source": [
        "image1, image2 = output2[0], output2[1]\n",
        "\n",
        "imshow(image1[0].detach().numpy())"
      ],
      "execution_count": 16,
      "outputs": [
        {
          "output_type": "execute_result",
          "data": {
            "text/plain": [
              "<matplotlib.image.AxesImage at 0x7f679b011dd8>"
            ]
          },
          "metadata": {
            "tags": []
          },
          "execution_count": 16
        },
        {
          "output_type": "display_data",
          "data": {
            "image/png": "[encoded data removed]",
            "text/plain": [
              "<Figure size 432x288 with 1 Axes>"
            ]
          },
          "metadata": {
            "tags": [],
            "needs_background": "light"
          }
        }
      ]
    },
    {
      "cell_type": "code",
      "metadata": {
        "id": "MG1-gNsGsrhm",
        "outputId": "c3e73b71-b5b7-4963-9635-ce73fbf98b70",
        "colab": {
          "base_uri": "https://localhost:8080/",
          "height": 93
        }
      },
      "source": [
        "fig = plt.figure(figsize=(30,30))\n",
        "\n",
        "for i in range(len(image1)):\n",
        "  plt.subplot(1,len(image1),i+1)\n",
        "  plt.imshow(image1[i].detach().numpy())"
      ],
      "execution_count": 17,
      "outputs": [
        {
          "output_type": "display_data",
          "data": {
            "image/png": "[encoded data removed]",
            "text/plain": [
              "<Figure size 2160x2160 with 32 Axes>"
            ]
          },
          "metadata": {
            "tags": [],
            "needs_background": "light"
          }
        }
      ]
    },
    {
      "cell_type": "code",
      "metadata": {
        "id": "cSFVZWcJswFG",
        "outputId": "0baebc6c-12b4-43f5-8143-cf8f36b010da",
        "colab": {
          "base_uri": "https://localhost:8080/",
          "height": 88
        }
      },
      "source": [
        "fig = plt.figure(figsize=(40,40))\n",
        "\n",
        "for i in range(len(image2)):\n",
        "  plt.subplot(1,len(image2),i+1)\n",
        "  plt.imshow(image2[i].detach().numpy(), cmap='gray')"
      ],
      "execution_count": 18,
      "outputs": [
        {
          "output_type": "display_data",
          "data": {
            "image/png": "[encoded data removed]",
            "text/plain": [
              "<Figure size 2880x2880 with 32 Axes>"
            ]
          },
          "metadata": {
            "tags": [],
            "needs_background": "light"
          }
        }
      ]
    },
    {
      "cell_type": "markdown",
      "metadata": {
        "id": "tXgyuBHduR2j"
      },
      "source": [
        "#### 3.4.3 After 3nd Fully Connected Layer\n",
        "\n",
        "- ConvNetStep의 fc1"
      ]
    },
    {
      "cell_type": "code",
      "metadata": {
        "id": "EBocSX_6uOFB",
        "outputId": "b4083781-1ee7-4a10-dd04-6d9165deea70",
        "colab": {
          "base_uri": "https://localhost:8080/"
        }
      },
      "source": [
        "output3 = model.forward3(output2)\n",
        "print(output3.size())"
      ],
      "execution_count": 19,
      "outputs": [
        {
          "output_type": "stream",
          "text": [
            "torch.Size([50, 120])\n"
          ],
          "name": "stdout"
        }
      ]
    },
    {
      "cell_type": "code",
      "metadata": {
        "id": "s0VWQExWuZp3",
        "outputId": "484e8187-3e55-4f1e-c0b8-be192f7d54d0",
        "colab": {
          "base_uri": "https://localhost:8080/"
        }
      },
      "source": [
        "image1, image2 = output3[0], output3[1]\n",
        "\n",
        "print(image1.size(), image2.size())"
      ],
      "execution_count": 20,
      "outputs": [
        {
          "output_type": "stream",
          "text": [
            "torch.Size([120]) torch.Size([120])\n"
          ],
          "name": "stdout"
        }
      ]
    },
    {
      "cell_type": "code",
      "metadata": {
        "id": "kCBEyq2xvGNx",
        "outputId": "6b46b951-7fbf-4fb8-9af7-024bfc50f8f0",
        "colab": {
          "base_uri": "https://localhost:8080/",
          "height": 35
        }
      },
      "source": [
        "\"\"\"\n",
        "  error : image1가 더 이상 2차원 tensor가 아님. (이미지로 show 불가)\n",
        "\"\"\"\n",
        "## imshow(image1[0].detach().numpy())"
      ],
      "execution_count": 21,
      "outputs": [
        {
          "output_type": "execute_result",
          "data": {
            "application/vnd.google.colaboratory.intrinsic+json": {
              "type": "string"
            },
            "text/plain": [
              "'\\n  error : image1가 더 이상 2차원 tensor가 아님. (이미지로 show 불가)\\n'"
            ]
          },
          "metadata": {
            "tags": []
          },
          "execution_count": 21
        }
      ]
    },
    {
      "cell_type": "code",
      "metadata": {
        "id": "Wu2kbD9YvN6H",
        "outputId": "b491d3a3-6b03-46d8-9129-058075787815",
        "colab": {
          "base_uri": "https://localhost:8080/"
        }
      },
      "source": [
        "print(image1)"
      ],
      "execution_count": 22,
      "outputs": [
        {
          "output_type": "stream",
          "text": [
            "tensor([ 6.3353e-01,  3.2060e-01, -1.2248e-01, -8.6536e-01,  2.9791e-01,\n",
            "         4.0785e-02, -8.1884e-01,  5.4665e-01,  5.9752e-01, -5.0363e-01,\n",
            "        -7.3590e-02, -5.1591e-01, -5.8521e-01, -4.6615e-01, -1.7114e-02,\n",
            "        -1.6695e-01, -1.2483e-01, -8.3991e-02, -4.5121e-01, -5.3994e-01,\n",
            "        -1.4237e-01, -1.0304e+00, -3.0690e-01, -4.6102e-02, -4.3255e-01,\n",
            "        -4.0252e-01, -6.1736e-01, -4.9756e-01, -2.2088e-02, -8.4288e-02,\n",
            "         4.1282e-01,  3.0985e-01,  6.2590e-02,  7.0577e-02, -3.9088e-01,\n",
            "        -4.7180e-01, -7.9996e-02, -5.6825e-01, -9.0998e-02,  9.2240e-01,\n",
            "         9.7540e-03,  9.3154e-01,  1.3235e-01, -4.9477e-01,  8.8026e-03,\n",
            "        -2.1202e-03, -7.3356e-01,  1.1070e-01,  2.1245e-02,  7.3157e-02,\n",
            "         2.7392e-01,  3.8159e-01, -3.8586e-01,  5.5377e-02,  1.9538e-01,\n",
            "         5.0202e-01,  1.7676e-01, -1.1137e-01, -1.7690e-01, -5.3892e-02,\n",
            "        -1.8462e-01, -2.8044e-03,  5.7550e-02, -3.4433e-01, -1.2030e-01,\n",
            "         3.8054e-02,  1.3123e-01, -6.3615e-01,  3.8553e-01,  1.0489e-01,\n",
            "         7.0441e-01,  1.8129e-01,  2.4320e-01, -2.4441e-01,  3.6113e-01,\n",
            "        -4.3488e-01, -1.0547e-01, -1.0803e-01,  5.8315e-03, -9.6488e-02,\n",
            "        -7.4854e-01,  6.3304e-01,  3.2060e-01,  7.9578e-01, -3.6851e-01,\n",
            "        -2.5012e-01,  1.8656e-01, -5.7068e-04, -2.8043e-01, -3.0077e-01,\n",
            "         3.6725e-01, -9.5452e-02,  9.8771e-01, -3.2862e-02, -5.4065e-02,\n",
            "        -4.0743e-01, -3.4896e-01,  1.6779e-02,  9.9967e-03, -5.0452e-01,\n",
            "         1.3135e-01,  1.2260e+00,  1.3617e-01,  4.3227e-01,  1.7905e-01,\n",
            "        -2.1308e-01,  1.7833e-01, -1.7657e-01, -1.5339e-01,  4.1244e-01,\n",
            "        -6.5278e-01, -2.1653e-01, -4.1569e-01, -4.0103e-01,  2.0613e-01,\n",
            "         1.2230e-01,  1.0106e-01,  7.3530e-02, -1.9088e-01,  5.0780e-01],\n",
            "       grad_fn=<SelectBackward>)\n"
          ],
          "name": "stdout"
        }
      ]
    },
    {
      "cell_type": "code",
      "metadata": {
        "id": "RbSPQJhNvUzv",
        "outputId": "7b38cb70-214b-4d26-af41-20a30aa4253e",
        "colab": {
          "base_uri": "https://localhost:8080/"
        }
      },
      "source": [
        "print(image2.detach().numpy())"
      ],
      "execution_count": 23,
      "outputs": [
        {
          "output_type": "stream",
          "text": [
            "[ 1.0860308   0.56637496 -1.3389617  -0.47323298  0.08821191 -0.19455492\n",
            " -0.45035186  0.80314744 -0.00405043 -0.5460633  -0.11619598  0.07372499\n",
            " -1.0843024  -0.22495067  0.7962939   0.741284   -0.64548016 -0.9812582\n",
            " -0.69236314 -0.72464645  0.32430735 -0.7457464  -0.34973407  0.11842921\n",
            "  0.25484785  0.3209895   0.32406557 -0.61085343  0.01374152 -0.95002955\n",
            " -0.74785316  0.7903415  -0.405151    0.6912766  -1.44964    -0.93783563\n",
            " -0.26705128 -0.7335378   0.34563544  0.4506563  -0.07509111  0.56809646\n",
            "  0.1056496  -1.1426518  -0.41859564 -0.39516366 -0.911476    1.6826961\n",
            " -0.22321     0.66104317  0.20267463  0.4563498  -0.6088253   0.84094834\n",
            "  0.50235695 -0.20225438  0.4853004   0.32485628 -0.12563738  0.89975\n",
            "  0.24368203  0.10769686  0.20664433  0.8105518  -0.8155383  -0.6726595\n",
            " -0.46892953 -0.81273097 -0.19031012  0.79100806  1.1241719  -0.2881948\n",
            " -0.386194   -0.24763072  0.68752307  0.15476531 -0.20911294 -0.5068932\n",
            "  1.2573168  -0.4535139  -1.2386594   1.4125376   0.05801723  1.3112363\n",
            " -0.28958058  0.07400429  1.527099   -0.40825072  0.32975507  0.01220754\n",
            "  0.06195252  0.20101221  1.1051526   0.29763722 -0.15295559 -0.4325951\n",
            " -0.07441894 -0.04229513 -0.43658018  0.04887422 -0.02533521  0.81571645\n",
            "  0.5341689   0.9685195  -0.21732958 -0.48671594  0.05452722 -0.5672515\n",
            "  0.10335007 -0.3548062  -0.7274333  -0.147834   -0.23479773 -0.3478347\n",
            "  0.2897999  -0.61148185 -0.58173853 -0.82539827 -0.8434273   0.33864024]\n"
          ],
          "name": "stdout"
        }
      ]
    },
    {
      "cell_type": "markdown",
      "metadata": {
        "id": "V_vMj_xQvddy"
      },
      "source": [
        "#### 3.4.4 After 4th Fully Connected Layer\n",
        "\n",
        "- ConvNetStep의 fc4\n",
        "- final result!"
      ]
    },
    {
      "cell_type": "code",
      "metadata": {
        "id": "SvvdWPJSvagH",
        "outputId": "ace7c707-3d87-4d45-93f6-9b6f7caec81c",
        "colab": {
          "base_uri": "https://localhost:8080/"
        }
      },
      "source": [
        "output4 = model.forward4(output3)\n",
        "print(output4.shape)"
      ],
      "execution_count": 24,
      "outputs": [
        {
          "output_type": "stream",
          "text": [
            "torch.Size([50, 10])\n"
          ],
          "name": "stdout"
        }
      ]
    },
    {
      "cell_type": "code",
      "metadata": {
        "id": "yRH1ZFbEv7Yk",
        "outputId": "f646d722-6476-47e8-9f59-884f5a6c7cfa",
        "colab": {
          "base_uri": "https://localhost:8080/"
        }
      },
      "source": [
        "image1, image2 = output4[0], output4[1]\n",
        "print(image1.size())"
      ],
      "execution_count": 25,
      "outputs": [
        {
          "output_type": "stream",
          "text": [
            "torch.Size([10])\n"
          ],
          "name": "stdout"
        }
      ]
    },
    {
      "cell_type": "code",
      "metadata": {
        "id": "U29MOrrov_4_",
        "outputId": "ea6e3252-4bc3-4551-de45-df5b008d5f32",
        "colab": {
          "base_uri": "https://localhost:8080/"
        }
      },
      "source": [
        "print(\"image1\")\n",
        "print(\"the final tensor :\", image1)\n",
        "print(\"the result:\", image1.tolist().index(image1.max()))"
      ],
      "execution_count": 26,
      "outputs": [
        {
          "output_type": "stream",
          "text": [
            "image1\n",
            "the final tensor : tensor([ 0.1845, -0.1534, -0.5420, -0.0581, -0.2190, -0.0749, -0.3822, -0.4309,\n",
            "        -0.1077, -0.1756], grad_fn=<SelectBackward>)\n",
            "the result: 0\n"
          ],
          "name": "stdout"
        }
      ]
    },
    {
      "cell_type": "code",
      "metadata": {
        "id": "9dW3taRzwE2P",
        "outputId": "c21c6f88-28c5-4c73-bad5-5c0adace20ff",
        "colab": {
          "base_uri": "https://localhost:8080/"
        }
      },
      "source": [
        "print(\"image2\")\n",
        "print(\"the final tensor:\", image2)\n",
        "print(\"the result:\", image2.tolist().index(image2.max()))"
      ],
      "execution_count": 27,
      "outputs": [
        {
          "output_type": "stream",
          "text": [
            "image2\n",
            "the final tensor: tensor([ 0.0690, -0.4239, -0.0628,  0.4377,  0.6113, -0.0509, -0.1261, -0.4141,\n",
            "        -0.6909, -0.8640], grad_fn=<SelectBackward>)\n",
            "the result: 4\n"
          ],
          "name": "stdout"
        }
      ]
    },
    {
      "cell_type": "markdown",
      "metadata": {
        "id": "p9opcVrn0Vpn"
      },
      "source": [
        "## 4. Set Loss & Optimizer"
      ]
    },
    {
      "cell_type": "code",
      "metadata": {
        "id": "GKP8YAzx0SuU"
      },
      "source": [
        "model = ConvNetStep().to(device)\n",
        "criterion = nn.CrossEntropyLoss()\n",
        "optimizer = torch.optim.Adam(model.parameters(), lr=learning_rate)"
      ],
      "execution_count": 28,
      "outputs": []
    },
    {
      "cell_type": "markdown",
      "metadata": {
        "id": "-ziF03eczKGG"
      },
      "source": [
        "## 4. Train"
      ]
    },
    {
      "cell_type": "code",
      "metadata": {
        "id": "0KtqwW7fwb43",
        "outputId": "a5567481-2ef3-41d8-824c-32a43a7b8cd0",
        "colab": {
          "base_uri": "https://localhost:8080/"
        }
      },
      "source": [
        "total_step = len(train_loader)\n",
        "\n",
        "for epoch in range(num_epochs):\n",
        "  for i, (img, label) in enumerate(train_loader):\n",
        "    # Assign Tensors to Configures Devices (gpu)\n",
        "    img = img.to(device)\n",
        "    label = label.to(device)\n",
        "\n",
        "    # Forward propagation\n",
        "    outputs = model(img)\n",
        "\n",
        "    # Get Loss, Compute Gradient, Update Parameters\n",
        "    loss = criterion(outputs, label)\n",
        "    optimizer.zero_grad()\n",
        "    loss.backward()\n",
        "    optimizer.step()\n",
        "\n",
        "    # Print Loss\n",
        "    if i % 10000 == 0 or (i+1)==len(train_loader):\n",
        "      print('Epoch [{}/{}], Step [{}/{}], Loss: {:.4f}'.format(epoch+1, num_epochs, i+1, len(train_loader), loss.item()))"
      ],
      "execution_count": 29,
      "outputs": [
        {
          "output_type": "stream",
          "text": [
            "/usr/local/lib/python3.6/dist-packages/ipykernel_launcher.py:39: UserWarning: Implicit dimension choice for softmax has been deprecated. Change the call to include dim=X as an argument.\n"
          ],
          "name": "stderr"
        },
        {
          "output_type": "stream",
          "text": [
            "Epoch [1/5], Step [1/1200], Loss: 2.3018\n",
            "Epoch [1/5], Step [1200/1200], Loss: 1.5404\n",
            "Epoch [2/5], Step [1/1200], Loss: 1.4863\n",
            "Epoch [2/5], Step [1200/1200], Loss: 1.4643\n",
            "Epoch [3/5], Step [1/1200], Loss: 1.4829\n",
            "Epoch [3/5], Step [1200/1200], Loss: 1.4776\n",
            "Epoch [4/5], Step [1/1200], Loss: 1.4779\n",
            "Epoch [4/5], Step [1200/1200], Loss: 1.4636\n",
            "Epoch [5/5], Step [1/1200], Loss: 1.4632\n",
            "Epoch [5/5], Step [1200/1200], Loss: 1.4924\n"
          ],
          "name": "stdout"
        }
      ]
    },
    {
      "cell_type": "markdown",
      "metadata": {
        "id": "fk68SEIN7ixs"
      },
      "source": [
        "## 5. Save Model and Load Model to test"
      ]
    },
    {
      "cell_type": "markdown",
      "metadata": {
        "id": "PnNpcQHh7wJZ"
      },
      "source": [
        "### 5.1 Save model"
      ]
    },
    {
      "cell_type": "code",
      "metadata": {
        "id": "Szg78iTX1pmh"
      },
      "source": [
        "torch.save(model.state_dict(),\"my_model.pth\")"
      ],
      "execution_count": 30,
      "outputs": []
    },
    {
      "cell_type": "markdown",
      "metadata": {
        "id": "TpMRq3rT76XT"
      },
      "source": [
        "### 5.2 Load model"
      ]
    },
    {
      "cell_type": "code",
      "metadata": {
        "id": "blK-PIt-78_B",
        "outputId": "63500ffb-de23-42cb-c360-7c621dc50581",
        "colab": {
          "base_uri": "https://localhost:8080/"
        }
      },
      "source": [
        "test_model = ConvNetStep().to(device)\n",
        "\n",
        "test_model.load_state_dict(torch.load(\"my_model.pth\"))"
      ],
      "execution_count": 31,
      "outputs": [
        {
          "output_type": "execute_result",
          "data": {
            "text/plain": [
              "<All keys matched successfully>"
            ]
          },
          "metadata": {
            "tags": []
          },
          "execution_count": 31
        }
      ]
    },
    {
      "cell_type": "code",
      "metadata": {
        "id": "fPfsc87K8e7s",
        "outputId": "d6d79997-5c5b-4a22-db62-b05e72855ecf",
        "colab": {
          "base_uri": "https://localhost:8080/"
        }
      },
      "source": [
        "test_model.eval()\n",
        "\n",
        "with torch.no_grad():\n",
        "  correct = 0\n",
        "  \n",
        "  for img, lab in test_loader:\n",
        "    img = img.to(device)\n",
        "    lab = lab.to(device)\n",
        "    out = test_model(img)\n",
        "    _, pred = torch.max(out.data, 1)\n",
        "    correct += (pred == lab).sum().item()\n",
        "\n",
        "  print(\"Accuracy of the network on the {} test images: {}%\".format(len(test_loader)*batch_size, 100 * correct / (len(test_loader) * batch_size)))"
      ],
      "execution_count": 32,
      "outputs": [
        {
          "output_type": "stream",
          "text": [
            "/usr/local/lib/python3.6/dist-packages/ipykernel_launcher.py:39: UserWarning: Implicit dimension choice for softmax has been deprecated. Change the call to include dim=X as an argument.\n"
          ],
          "name": "stderr"
        },
        {
          "output_type": "stream",
          "text": [
            "Accuracy of the network on the 10000 test images: 98.74%\n"
          ],
          "name": "stdout"
        }
      ]
    },
    {
      "cell_type": "code",
      "metadata": {
        "id": "vJDyYMK7_4F1"
      },
      "source": [
        ""
      ],
      "execution_count": 32,
      "outputs": []
    }
  ]
}