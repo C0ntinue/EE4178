{
  "nbformat": 4,
  "nbformat_minor": 0,
  "metadata": {
    "colab": {
      "name": "[Intro] Pytorch (simple network with CIFAR10)",
      "provenance": [],
      "collapsed_sections": [
        "M2fXIxn-Yax8"
      ],
      "authorship_tag": "ABX9TyNMlD3wEI+Vv2x5B/pfj0Vn",
      "include_colab_link": true
    },
    "kernelspec": {
      "name": "python3",
      "display_name": "Python 3"
    },
    "accelerator": "GPU"
  },
  "cells": [
    {
      "cell_type": "markdown",
      "metadata": {
        "id": "view-in-github",
        "colab_type": "text"
      },
      "source": [
        "<a href=\"https://colab.research.google.com/github/Hyejin-Koo/EE4178/blob/master/%5BIntro%5D_Pytorch_(simple_network_with_CIFAR10).ipynb\" target=\"_parent\"><img src=\"https://colab.research.google.com/assets/colab-badge.svg\" alt=\"Open In Colab\"/></a>"
      ]
    },
    {
      "cell_type": "markdown",
      "metadata": {
        "id": "BA8s3y3BiySF"
      },
      "source": [
        "# 인공지능(딥러닝)개론 EE4178\n",
        "## Pytorch 실습\n",
        "\n",
        "\n",
        "---\n",
        "Day1. Intro\n",
        "\n",
        "\n",
        "> 0. Google Colab and Basic Python\n",
        "\n",
        "> 1. Pytorch\n",
        "\n",
        "> 2. XOR in Pytorch\n",
        "\n",
        "\n",
        "\n",
        "\n",
        "\n",
        "\n",
        "\n"
      ]
    },
    {
      "cell_type": "markdown",
      "metadata": {
        "id": "iZLTmlPdTE_7"
      },
      "source": [
        "## 1. Pytorch"
      ]
    },
    {
      "cell_type": "markdown",
      "metadata": {
        "id": "M2fXIxn-Yax8"
      },
      "source": [
        "### 1.1 Tensors / Numpy"
      ]
    },
    {
      "cell_type": "code",
      "metadata": {
        "id": "e79ingkGKuex"
      },
      "source": [
        "import torch\n",
        "import numpy as np\n",
        "\n",
        "## colab의 경우, 대부분의 package install 필요 없음 (바로 import 가능)\n",
        "## 패키지 설치가 필요할 경우: 'pip install package_name'"
      ],
      "execution_count": null,
      "outputs": []
    },
    {
      "cell_type": "markdown",
      "metadata": {
        "id": "bbU9biUwTsVq"
      },
      "source": [
        "**Python List / Numpy / Tensors**\n",
        "* Python List: 행렬 연산을 위해 for 문 사용\n",
        "* Numpy : 차원이 다른 행렬 간에도 연산이 가능\n",
        "* Tensor : GPU 상에서 연산이 가능하고 autograd(자동 미분)연산 기능이 있는 자료형"
      ]
    },
    {
      "cell_type": "markdown",
      "metadata": {
        "id": "B7eZ7rBzMBp4"
      },
      "source": [
        "#### Tensor 생성 및 초기화"
      ]
    },
    {
      "cell_type": "code",
      "metadata": {
        "id": "zTg4AZdeTohQ",
        "outputId": "cd3c8d5e-1747-44af-8acf-d191fcefb8c9",
        "colab": {
          "base_uri": "https://localhost:8080/"
        }
      },
      "source": [
        "# 초기화되지 않은 행렬 생성\n",
        "x = torch.empty(5,3)\n",
        "print(x)"
      ],
      "execution_count": null,
      "outputs": [
        {
          "output_type": "stream",
          "text": [
            "tensor([[-2.4394e-06,  0.0000e+00,  1.4396e-38],\n",
            "        [ 0.0000e+00,  3.2230e-44,  0.0000e+00],\n",
            "        [        nan,         nan,  0.0000e+00],\n",
            "        [ 0.0000e+00,  0.0000e+00,  0.0000e+00],\n",
            "        [ 0.0000e+00,  0.0000e+00,  0.0000e+00]])\n"
          ],
          "name": "stdout"
        }
      ]
    },
    {
      "cell_type": "code",
      "metadata": {
        "id": "ZBgbH7EfMJxH",
        "outputId": "85f7572e-25e7-4edf-fdbc-9befce698276",
        "colab": {
          "base_uri": "https://localhost:8080/"
        }
      },
      "source": [
        "# 0 ~ 1 사이의 랜덤 초기화 행렬 생성\n",
        "x = torch.rand(5,3)\n",
        "print(x)"
      ],
      "execution_count": null,
      "outputs": [
        {
          "output_type": "stream",
          "text": [
            "tensor([[0.1113, 0.7561, 0.7733],\n",
            "        [0.2754, 0.8645, 0.7153],\n",
            "        [0.6321, 0.1599, 0.9180],\n",
            "        [0.9674, 0.0300, 0.3314],\n",
            "        [0.6207, 0.1171, 0.1962]])\n"
          ],
          "name": "stdout"
        }
      ]
    },
    {
      "cell_type": "code",
      "metadata": {
        "id": "jyAfqujMNHoG",
        "outputId": "3338b6a9-04d1-4d2d-ed8e-f6aa9d6adc91",
        "colab": {
          "base_uri": "https://localhost:8080/"
        }
      },
      "source": [
        "x.mean()"
      ],
      "execution_count": null,
      "outputs": [
        {
          "output_type": "execute_result",
          "data": {
            "text/plain": [
              "tensor(0.4979)"
            ]
          },
          "metadata": {
            "tags": []
          },
          "execution_count": 107
        }
      ]
    },
    {
      "cell_type": "code",
      "metadata": {
        "id": "sl7F8RBGNzJ3",
        "outputId": "d5c97ade-a235-41be-f2f5-dc8a8ed62239",
        "colab": {
          "base_uri": "https://localhost:8080/"
        }
      },
      "source": [
        "x.std()"
      ],
      "execution_count": null,
      "outputs": [
        {
          "output_type": "execute_result",
          "data": {
            "text/plain": [
              "tensor(0.3328)"
            ]
          },
          "metadata": {
            "tags": []
          },
          "execution_count": 108
        }
      ]
    },
    {
      "cell_type": "code",
      "metadata": {
        "id": "bEwJN14KMZ-9",
        "outputId": "12634670-4930-4279-a774-e05fc7f08bef",
        "colab": {
          "base_uri": "https://localhost:8080/"
        }
      },
      "source": [
        "# Standard Normal Distribution에서 랜덤 초기화 행렬 생성\n",
        "x = torch.randn(5,3)\n",
        "print(x)"
      ],
      "execution_count": null,
      "outputs": [
        {
          "output_type": "stream",
          "text": [
            "tensor([[-1.2664, -1.1700, -0.2691],\n",
            "        [ 1.1601, -1.6574,  0.6775],\n",
            "        [ 0.8556,  0.2810, -0.7043],\n",
            "        [ 1.0276, -0.0337, -1.5780],\n",
            "        [ 1.8412, -1.2262,  0.1560]])\n"
          ],
          "name": "stdout"
        }
      ]
    },
    {
      "cell_type": "code",
      "metadata": {
        "id": "4q6bOPVdNNpe",
        "outputId": "328497b1-6ee9-45e2-a801-5205fda19ae3",
        "colab": {
          "base_uri": "https://localhost:8080/"
        }
      },
      "source": [
        "x.mean()"
      ],
      "execution_count": null,
      "outputs": [
        {
          "output_type": "execute_result",
          "data": {
            "text/plain": [
              "tensor(-0.1271)"
            ]
          },
          "metadata": {
            "tags": []
          },
          "execution_count": 110
        }
      ]
    },
    {
      "cell_type": "code",
      "metadata": {
        "id": "kBARNL1qNSrN",
        "outputId": "131cdcc3-9ff4-4833-829b-6ed242f12426",
        "colab": {
          "base_uri": "https://localhost:8080/"
        }
      },
      "source": [
        "x.std()"
      ],
      "execution_count": null,
      "outputs": [
        {
          "output_type": "execute_result",
          "data": {
            "text/plain": [
              "tensor(1.1060)"
            ]
          },
          "metadata": {
            "tags": []
          },
          "execution_count": 111
        }
      ]
    },
    {
      "cell_type": "code",
      "metadata": {
        "id": "_MqusfsWNwJe",
        "outputId": "90a1a59c-d9cd-43c7-8d44-64c95ada6cdf",
        "colab": {
          "base_uri": "https://localhost:8080/"
        }
      },
      "source": [
        "# 특정 값을 tensor로 만들기\n",
        "x = torch.tensor([[1.2, 4.5],[1,2]])\n",
        "x"
      ],
      "execution_count": null,
      "outputs": [
        {
          "output_type": "execute_result",
          "data": {
            "text/plain": [
              "tensor([[1.2000, 4.5000],\n",
              "        [1.0000, 2.0000]])"
            ]
          },
          "metadata": {
            "tags": []
          },
          "execution_count": 120
        }
      ]
    },
    {
      "cell_type": "markdown",
      "metadata": {
        "id": "N-oihxgoOPmS"
      },
      "source": [
        "#### Tensor size & Numpy 변환"
      ]
    },
    {
      "cell_type": "code",
      "metadata": {
        "id": "O-p8GZ2lOJqV",
        "outputId": "909c5c74-c213-4331-97f7-abfb58c7ebb2",
        "colab": {
          "base_uri": "https://localhost:8080/"
        }
      },
      "source": [
        "# Size 확인\n",
        "x = torch.randn(3,4)\n",
        "print(x)\n",
        "print(\"x size : \", x.size())"
      ],
      "execution_count": null,
      "outputs": [
        {
          "output_type": "stream",
          "text": [
            "tensor([[ 0.6914, -1.4307,  1.1422, -0.1958],\n",
            "        [-1.1402, -1.1508, -0.8876, -0.4204],\n",
            "        [ 0.0159,  1.0341,  1.3965,  0.3026]])\n",
            "x size :  torch.Size([3, 4])\n"
          ],
          "name": "stdout"
        }
      ]
    },
    {
      "cell_type": "code",
      "metadata": {
        "id": "yiDxd5dmO1LI",
        "outputId": "75699cb2-5266-4f1c-9bf5-be6e97d11cba",
        "colab": {
          "base_uri": "https://localhost:8080/"
        }
      },
      "source": [
        "# Resize - \"reshape\" : any tensor\n",
        "x = torch.rand(3,4)\n",
        "y = x.reshape(4,3)\n",
        "z = x.reshape(-1, 2)\n",
        "print(x, x.size(), \"\\n\", y, y.size(), \"\\n\", z, z.size())"
      ],
      "execution_count": null,
      "outputs": [
        {
          "output_type": "stream",
          "text": [
            "tensor([[0.6367, 0.6571, 0.1361, 0.8993],\n",
            "        [0.0779, 0.6828, 0.7439, 0.0740],\n",
            "        [0.1971, 0.9843, 0.7021, 0.7085]]) torch.Size([3, 4]) \n",
            " tensor([[0.6367, 0.6571, 0.1361],\n",
            "        [0.8993, 0.0779, 0.6828],\n",
            "        [0.7439, 0.0740, 0.1971],\n",
            "        [0.9843, 0.7021, 0.7085]]) torch.Size([4, 3]) \n",
            " tensor([[0.6367, 0.6571],\n",
            "        [0.1361, 0.8993],\n",
            "        [0.0779, 0.6828],\n",
            "        [0.7439, 0.0740],\n",
            "        [0.1971, 0.9843],\n",
            "        [0.7021, 0.7085]]) torch.Size([6, 2])\n"
          ],
          "name": "stdout"
        }
      ]
    },
    {
      "cell_type": "code",
      "metadata": {
        "id": "r37wmuHzQVFJ",
        "outputId": "66606264-3830-4fc9-8778-8f0b5adc87f6",
        "colab": {
          "base_uri": "https://localhost:8080/"
        }
      },
      "source": [
        "# Resize - \"view\" : for contiguous tensors\n",
        "x = torch.randn(3,4)\n",
        "y = x.view(4,3)\n",
        "z = x.view(-1, 2)\n",
        "print(x, x.size(), \"\\n\", y, y.size(), \"\\n\", z, z.size())"
      ],
      "execution_count": null,
      "outputs": [
        {
          "output_type": "stream",
          "text": [
            "tensor([[ 9.3655e-01,  2.1173e-01, -4.6866e-01, -2.5465e+00],\n",
            "        [ 2.2822e+00,  3.6694e-01, -1.9738e-01, -7.5453e-01],\n",
            "        [-7.8012e-01, -2.6918e-01,  2.2160e-01,  1.7148e-03]]) torch.Size([3, 4]) \n",
            " tensor([[ 9.3655e-01,  2.1173e-01, -4.6866e-01],\n",
            "        [-2.5465e+00,  2.2822e+00,  3.6694e-01],\n",
            "        [-1.9738e-01, -7.5453e-01, -7.8012e-01],\n",
            "        [-2.6918e-01,  2.2160e-01,  1.7148e-03]]) torch.Size([4, 3]) \n",
            " tensor([[ 9.3655e-01,  2.1173e-01],\n",
            "        [-4.6866e-01, -2.5465e+00],\n",
            "        [ 2.2822e+00,  3.6694e-01],\n",
            "        [-1.9738e-01, -7.5453e-01],\n",
            "        [-7.8012e-01, -2.6918e-01],\n",
            "        [ 2.2160e-01,  1.7148e-03]]) torch.Size([6, 2])\n"
          ],
          "name": "stdout"
        }
      ]
    },
    {
      "cell_type": "markdown",
      "metadata": {
        "id": "PbUXYY5FRge2"
      },
      "source": [
        "#### Tensor, Numpy 변환"
      ]
    },
    {
      "cell_type": "code",
      "metadata": {
        "id": "37BMZkpzQ-tP",
        "outputId": "7ee6ff97-8e7d-48f2-962d-0a314b61e4f0",
        "colab": {
          "base_uri": "https://localhost:8080/"
        }
      },
      "source": [
        "# Tensor to numpy\n",
        "x = torch.ones(5)\n",
        "y = x.numpy()\n",
        "print(x, type(x))\n",
        "print(y, type(y))"
      ],
      "execution_count": null,
      "outputs": [
        {
          "output_type": "stream",
          "text": [
            "tensor([1., 1., 1., 1., 1.]) <class 'torch.Tensor'>\n",
            "[1. 1. 1. 1. 1.] <class 'numpy.ndarray'>\n"
          ],
          "name": "stdout"
        }
      ]
    },
    {
      "cell_type": "code",
      "metadata": {
        "id": "bwK2lX10SHPn",
        "outputId": "2c28edef-8fb5-4e3d-90d7-d24cba0a752f",
        "colab": {
          "base_uri": "https://localhost:8080/"
        }
      },
      "source": [
        "# Numpy to tensor\n",
        "x = np.ones(5)\n",
        "y = torch.from_numpy(x)\n",
        "print(x, type(x))\n",
        "print(y, type(y))"
      ],
      "execution_count": null,
      "outputs": [
        {
          "output_type": "stream",
          "text": [
            "[1. 1. 1. 1. 1.] <class 'numpy.ndarray'>\n",
            "tensor([1., 1., 1., 1., 1.], dtype=torch.float64) <class 'torch.Tensor'>\n"
          ],
          "name": "stdout"
        }
      ]
    },
    {
      "cell_type": "code",
      "metadata": {
        "id": "rBzZ3TebSU6O",
        "outputId": "6693cc17-cbe8-4ffe-c1fa-9ffb0182ec39",
        "colab": {
          "base_uri": "https://localhost:8080/"
        }
      },
      "source": [
        "# GPU 연산을 위한 CUDA tensor\n",
        "x = torch.ones(5)\n",
        "y = x.to(device=\"cuda:0\") #런타임 연결 gpu로 설정\n",
        "print(x)\n",
        "print(y)"
      ],
      "execution_count": null,
      "outputs": [
        {
          "output_type": "stream",
          "text": [
            "tensor([1., 1., 1., 1., 1.])\n",
            "tensor([1., 1., 1., 1., 1.], device='cuda:0')\n"
          ],
          "name": "stdout"
        }
      ]
    },
    {
      "cell_type": "markdown",
      "metadata": {
        "id": "Wn4V8ar8S7NS"
      },
      "source": [
        "#### Tensor Autograd\n",
        "requires_grad를 true로 세팅하면 tensor에 대한 모든 연산 추적 가능\n",
        "\n",
        "이를 통해 forward propagation 후, .backward() 호출 시 모든 gradient 자동으로 계산\n",
        "\n"
      ]
    },
    {
      "cell_type": "code",
      "metadata": {
        "id": "BhqS4QllSjgO",
        "outputId": "2317401f-73ca-4551-9627-bc05208fcee4",
        "colab": {
          "base_uri": "https://localhost:8080/"
        }
      },
      "source": [
        "x = torch.tensor(([1., 2.], [3., 4.]), requires_grad=True)\n",
        "print(x)\n",
        "y = (x+2) **2 *3\n",
        "print(y)\n",
        "\n",
        "out = y.mean()\n",
        "print(out)\n",
        "\n",
        "out.backward()\n",
        "print(x.grad)"
      ],
      "execution_count": null,
      "outputs": [
        {
          "output_type": "stream",
          "text": [
            "tensor([[1., 2.],\n",
            "        [3., 4.]], requires_grad=True)\n",
            "tensor([[ 27.,  48.],\n",
            "        [ 75., 108.]], grad_fn=<MulBackward0>)\n",
            "tensor(64.5000, grad_fn=<MeanBackward0>)\n",
            "tensor([[4.5000, 6.0000],\n",
            "        [7.5000, 9.0000]])\n"
          ],
          "name": "stdout"
        }
      ]
    },
    {
      "cell_type": "markdown",
      "metadata": {
        "id": "rhIsYkXGX4tf"
      },
      "source": [
        "$$\n",
        "\\frac{\\partial out}{\\partial x} = \\frac{\\partial out}{\\partial y} \\frac{\\partial y}{\\partial x_i} = \\frac{1}{4}6(x_i+2)\n",
        "$$"
      ]
    },
    {
      "cell_type": "markdown",
      "metadata": {
        "id": "bZ0uN4SQW7uo"
      },
      "source": [
        "### 1.2 Pytorch Project"
      ]
    },
    {
      "cell_type": "markdown",
      "metadata": {
        "id": "-IK5ZdL3YiKv"
      },
      "source": [
        "#### 1.2.1 Load data"
      ]
    },
    {
      "cell_type": "code",
      "metadata": {
        "id": "3vGOHxGvT0bQ"
      },
      "source": [
        "import torchvision # to download 'CIFAR10' datasest\n",
        "import torchvision.transforms as transforms  # to manipulate input data"
      ],
      "execution_count": null,
      "outputs": []
    },
    {
      "cell_type": "code",
      "metadata": {
        "id": "5dVBB7a_uukC",
        "outputId": "15ebeaa3-40c8-43fa-c477-a730d5d50687",
        "colab": {
          "base_uri": "https://localhost:8080/"
        }
      },
      "source": [
        "train_data = torchvision.datasets.CIFAR10(root='./datasets',\n",
        "                                          train=True,\n",
        "                                          transform=transforms.ToTensor(),\n",
        "                                          download=True)"
      ],
      "execution_count": null,
      "outputs": [
        {
          "output_type": "stream",
          "text": [
            "Files already downloaded and verified\n"
          ],
          "name": "stdout"
        }
      ]
    },
    {
      "cell_type": "code",
      "metadata": {
        "id": "V8Bexh_7u6Hv",
        "outputId": "c2fc16aa-d869-4854-a570-8159c88c7c81",
        "colab": {
          "base_uri": "https://localhost:8080/"
        }
      },
      "source": [
        "# data check\n",
        "image, label = train_data[0]\n",
        "print(len(train_data), image.size(), label)"
      ],
      "execution_count": null,
      "outputs": [
        {
          "output_type": "stream",
          "text": [
            "50000 torch.Size([3, 32, 32]) 6\n"
          ],
          "name": "stdout"
        }
      ]
    },
    {
      "cell_type": "code",
      "metadata": {
        "id": "sr778zxXw8wP"
      },
      "source": [
        "import matplotlib\n",
        "import matplotlib.pyplot as plt"
      ],
      "execution_count": null,
      "outputs": []
    },
    {
      "cell_type": "code",
      "metadata": {
        "id": "ddh4sPlRziV-",
        "outputId": "ffbdeab0-bd78-4444-8418-2e33b79006b8",
        "colab": {
          "base_uri": "https://localhost:8080/",
          "height": 137
        }
      },
      "source": [
        "plt.subplot(141)\n",
        "plt.imshow(image.permute(2,1,0))\n",
        "plt.title(label)\n",
        "plt.show()"
      ],
      "execution_count": null,
      "outputs": [
        {
          "output_type": "display_data",
          "data": {
            "image/png": "[encoded data removed]",
            "text/plain": [
              "<Figure size 432x288 with 1 Axes>"
            ]
          },
          "metadata": {
            "tags": [],
            "needs_background": "light"
          }
        }
      ]
    },
    {
      "cell_type": "markdown",
      "metadata": {
        "id": "UQ7T_DeKvghg"
      },
      "source": [
        "#### 1.2.2. Define Dataloader\n",
        "\n",
        "define dataloader (dataloader loads data from queue while iters loop)"
      ]
    },
    {
      "cell_type": "code",
      "metadata": {
        "id": "laZKiRLtvT23"
      },
      "source": [
        "import torch"
      ],
      "execution_count": null,
      "outputs": []
    },
    {
      "cell_type": "code",
      "metadata": {
        "id": "nOWf5LeMvrvv"
      },
      "source": [
        "data_loader = torch.utils.data.DataLoader(dataset=train_data,\n",
        "                                          batch_size=64,\n",
        "                                          shuffle=True)"
      ],
      "execution_count": null,
      "outputs": []
    },
    {
      "cell_type": "code",
      "metadata": {
        "id": "bJVjB_lPvynn",
        "outputId": "9efbf3d2-f0cf-4060-a55c-b5f3c624ef26",
        "colab": {
          "base_uri": "https://localhost:8080/"
        }
      },
      "source": [
        "# check how data loader works\n",
        "print(len(data_loader))\n",
        "for idx, (images, labels) in enumerate(data_loader):\n",
        "  if idx ==3:\n",
        "    break\n",
        "  print(image.size(), labels)"
      ],
      "execution_count": null,
      "outputs": [
        {
          "output_type": "stream",
          "text": [
            "782\n",
            "torch.Size([3, 32, 32]) tensor([5, 3, 2, 9, 2, 4, 6, 6, 0, 5, 0, 0, 7, 2, 2, 8, 1, 1, 7, 9, 9, 1, 5, 4,\n",
            "        9, 8, 9, 3, 2, 3, 0, 1, 8, 7, 1, 1, 8, 4, 7, 6, 7, 8, 1, 8, 1, 9, 9, 9,\n",
            "        0, 3, 1, 2, 6, 8, 3, 2, 1, 7, 2, 3, 7, 4, 1, 0])\n",
            "torch.Size([3, 32, 32]) tensor([6, 3, 3, 8, 4, 8, 4, 1, 0, 6, 3, 0, 9, 8, 2, 9, 0, 5, 7, 3, 3, 3, 2, 0,\n",
            "        7, 6, 2, 0, 1, 8, 2, 0, 7, 0, 7, 6, 0, 1, 2, 1, 3, 8, 1, 7, 4, 2, 1, 4,\n",
            "        6, 1, 5, 7, 5, 7, 0, 8, 9, 7, 6, 1, 3, 1, 8, 9])\n",
            "torch.Size([3, 32, 32]) tensor([5, 0, 7, 9, 3, 4, 6, 9, 6, 8, 1, 9, 9, 6, 5, 0, 1, 4, 1, 5, 3, 6, 5, 7,\n",
            "        6, 3, 1, 6, 8, 6, 9, 3, 5, 9, 0, 5, 4, 7, 6, 2, 4, 0, 8, 6, 0, 7, 8, 1,\n",
            "        8, 3, 3, 1, 6, 8, 8, 2, 4, 8, 8, 7, 2, 1, 2, 5])\n"
          ],
          "name": "stdout"
        }
      ]
    },
    {
      "cell_type": "markdown",
      "metadata": {
        "id": "F61HdthJwCSf"
      },
      "source": [
        "#### 1.2.3. Define Model"
      ]
    },
    {
      "cell_type": "code",
      "metadata": {
        "id": "1G-k2sXSv_23"
      },
      "source": [
        "import torch.nn as nn\n",
        "import torch.nn.functional as F"
      ],
      "execution_count": null,
      "outputs": []
    },
    {
      "cell_type": "code",
      "metadata": {
        "id": "tffadfmfwHxe"
      },
      "source": [
        "class Net(nn.Module):\n",
        "  def __init__(self):\n",
        "    super(Net, self).__init__()\n",
        "    self.layer1 = nn.Sequential(\n",
        "        nn.Conv2d(3,6,5),\n",
        "        nn.BatchNorm2d(6),\n",
        "        nn.ReLU(),\n",
        "        nn.MaxPool2d(2,2)\n",
        "    )\n",
        "    self.fc = nn.Linear(6*14*14, 10)\n",
        "\n",
        "\n",
        "  def forward(self, x):\n",
        "    out = self.layer1(x)\n",
        "    out = out.reshape(out.size(0),-1)\n",
        "    out = self.fc(out)\n",
        "\n",
        "    return out\n",
        "\n",
        "model = Net()"
      ],
      "execution_count": null,
      "outputs": []
    },
    {
      "cell_type": "code",
      "metadata": {
        "id": "aqNCo47iwrUC",
        "outputId": "3ab0cad7-6873-44ad-8e2b-9fd58b78a0ea",
        "colab": {
          "base_uri": "https://localhost:8080/"
        }
      },
      "source": [
        "# check which layers constitue Network\n",
        "print(model)"
      ],
      "execution_count": null,
      "outputs": [
        {
          "output_type": "stream",
          "text": [
            "Net(\n",
            "  (layer1): Sequential(\n",
            "    (0): Conv2d(3, 6, kernel_size=(5, 5), stride=(1, 1))\n",
            "    (1): BatchNorm2d(6, eps=1e-05, momentum=0.1, affine=True, track_running_stats=True)\n",
            "    (2): ReLU()\n",
            "    (3): MaxPool2d(kernel_size=2, stride=2, padding=0, dilation=1, ceil_mode=False)\n",
            "  )\n",
            "  (fc): Linear(in_features=1176, out_features=10, bias=True)\n",
            ")\n"
          ],
          "name": "stdout"
        }
      ]
    },
    {
      "cell_type": "code",
      "metadata": {
        "id": "m2awr1pTwyR3",
        "outputId": "62b8929d-0f53-4be0-bd35-80ddd0b6d7f9",
        "colab": {
          "base_uri": "https://localhost:8080/"
        }
      },
      "source": [
        "# check how data passes through the Network\n",
        "data_iter = iter(data_loader)\n",
        "images, labels = data_iter.next()\n",
        "outputs = model(images)\n",
        "print(outputs.size(), '\\n', outputs[0], '\\n', outputs[0].tolist().index(max(outputs[0])))"
      ],
      "execution_count": null,
      "outputs": [
        {
          "output_type": "stream",
          "text": [
            "torch.Size([64, 10]) \n",
            " tensor([ 1.8770, -0.6668, -0.4353, -1.1240,  0.1158,  0.0830,  0.2002, -0.9187,\n",
            "        -0.0178,  0.5045], grad_fn=<SelectBackward>) \n",
            " 0\n"
          ],
          "name": "stdout"
        }
      ]
    },
    {
      "cell_type": "markdown",
      "metadata": {
        "id": "sqcyeZJZ1TjK"
      },
      "source": [
        "#### 1.2.4. Set Loss & Optimizer"
      ]
    },
    {
      "cell_type": "code",
      "metadata": {
        "id": "v_OxhQVy0tNJ"
      },
      "source": [
        "criterion = nn.CrossEntropyLoss()\n",
        "optimizer = torch.optim.SGD(model.parameters(), lr=0.001)"
      ],
      "execution_count": null,
      "outputs": []
    },
    {
      "cell_type": "markdown",
      "metadata": {
        "id": "OrJ-xeM41lrK"
      },
      "source": [
        "#### 1.2.5. Train / Test"
      ]
    },
    {
      "cell_type": "code",
      "metadata": {
        "id": "AuRRp1_P1fq4",
        "outputId": "cd89d5d3-0143-4a47-de38-fbd1b59c55b7",
        "colab": {
          "base_uri": "https://localhost:8080/"
        }
      },
      "source": [
        "epochs = 1\n",
        "for epoch in range(epochs):\n",
        "  for i, (images, labels) in enumerate(data_loader):\n",
        "    # Forward Propagate\n",
        "    outputs = model(images)\n",
        "\n",
        "    # Get Loss, Compute Gradients, Update Parameters\n",
        "    loss = criterion(outputs, labels)\n",
        "    optimizer.zero_grad()\n",
        "    loss.backward()\n",
        "    optimizer.step()\n",
        "\n",
        "    if i % 50 == 0 or (i+1)==len(data_loader):\n",
        "      print('Epoch [{}/{}], Step [{}/{}], Loss: {:.4f}'.format(epoch+1, epochs, i+1, len(data_loader), loss.item()))\n"
      ],
      "execution_count": null,
      "outputs": [
        {
          "output_type": "stream",
          "text": [
            "Epoch [1/1], Step [1/782], Loss: 2.2497\n",
            "Epoch [1/1], Step [51/782], Loss: 2.2591\n",
            "Epoch [1/1], Step [101/782], Loss: 2.1723\n",
            "Epoch [1/1], Step [151/782], Loss: 2.1571\n",
            "Epoch [1/1], Step [201/782], Loss: 2.1972\n",
            "Epoch [1/1], Step [251/782], Loss: 2.1233\n",
            "Epoch [1/1], Step [301/782], Loss: 1.9679\n",
            "Epoch [1/1], Step [351/782], Loss: 1.9504\n",
            "Epoch [1/1], Step [401/782], Loss: 2.0126\n",
            "Epoch [1/1], Step [451/782], Loss: 2.0462\n",
            "Epoch [1/1], Step [501/782], Loss: 1.8446\n",
            "Epoch [1/1], Step [551/782], Loss: 1.9124\n",
            "Epoch [1/1], Step [601/782], Loss: 1.9011\n",
            "Epoch [1/1], Step [651/782], Loss: 1.8230\n",
            "Epoch [1/1], Step [701/782], Loss: 1.8015\n",
            "Epoch [1/1], Step [751/782], Loss: 1.7561\n",
            "Epoch [1/1], Step [782/782], Loss: 2.1222\n"
          ],
          "name": "stdout"
        }
      ]
    },
    {
      "cell_type": "markdown",
      "metadata": {
        "id": "MYs0e-qZ216G"
      },
      "source": [
        "#### 1.2.6. Save & Visualization"
      ]
    },
    {
      "cell_type": "code",
      "metadata": {
        "id": "9b1CrW1T204A"
      },
      "source": [
        "torch.save(model.state_dict(), 'my_model.pth')"
      ],
      "execution_count": null,
      "outputs": []
    },
    {
      "cell_type": "code",
      "metadata": {
        "id": "qPubXL4O2mVw",
        "outputId": "8690b778-26b7-456b-e6ac-2edd9f365d08",
        "colab": {
          "base_uri": "https://localhost:8080/"
        }
      },
      "source": [
        "# check the saved model\n",
        "! ls"
      ],
      "execution_count": null,
      "outputs": [
        {
          "output_type": "stream",
          "text": [
            "datasets  my_model.pth\tsample_data\n"
          ],
          "name": "stdout"
        }
      ]
    },
    {
      "cell_type": "code",
      "metadata": {
        "id": "jQyuimvK3IsY"
      },
      "source": [
        ""
      ],
      "execution_count": null,
      "outputs": []
    }
  ]
}